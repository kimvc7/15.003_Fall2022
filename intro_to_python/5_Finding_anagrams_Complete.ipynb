{
 "cells": [
  {
   "cell_type": "markdown",
   "metadata": {},
   "source": [
    "# Finding Anagrams\n",
    "We will apply the tools we have learned thus far to write code to a spelling puzzle. According to Wikipedia, an Anagram is defined as follows.\n",
    "\n",
    "    An anagram is word or phrase formed by rearranging the letters of a different word or phrase, typically using all the original letters exactly once. For example, the word anagram can be rearranged into \"nag a ram\"\n",
    "\n",
    "Given the dataset of common English words, we want to write a function to find anagrams. Specifically, we want a function `Anagrams()` that returns a list of lists, where each inner list has the words which are anagrams of one another.\n",
    "\n",
    "For example, if `anagrams = Anagrams()`, then `anagrams` should contain the list `[art,rat,tar]`, since art, rat, and tar are in the word list and are mutually anagrams.\n",
    "\n",
    "Hint: the letters in a string can be sorted via the function `sorted()`.\n",
    "To convert a list of characters into a string, you can use `''.join(list_of_characters)`."
   ]
  },
  {
   "cell_type": "code",
   "execution_count": null,
   "metadata": {},
   "outputs": [],
   "source": [
    "def Anagrams():\n",
    "    # Obtain the list of words\n",
    "    file_name = 'english_words.txt'\n",
    "    words = [line.rstrip() for line in open(file_name)]\n",
    "    \n",
    "    # Create a dictionary as follows. The keys are the words, sorted internally. The\n",
    "    # value is the list of words that can be rearranged to that key.\n",
    "    my_dict = {}\n",
    "    for word in words:\n",
    "        sorted_word = ''.join(sorted(word))\n",
    "        if sorted_word not in my_dict:\n",
    "            my_dict[sorted_word] = []\n",
    "        my_dict[sorted_word].append(word)\n",
    "        \n",
    "    \n",
    "    return my_dict\n",
    "            \n",
    "    \n",
    "    "
   ]
  },
  {
   "cell_type": "code",
   "execution_count": null,
   "metadata": {},
   "outputs": [],
   "source": [
    "anagrams = Anagrams()"
   ]
  },
  {
   "cell_type": "code",
   "execution_count": null,
   "metadata": {},
   "outputs": [],
   "source": [
    "collections = anagrams.values()"
   ]
  },
  {
   "cell_type": "code",
   "execution_count": null,
   "metadata": {},
   "outputs": [],
   "source": [
    "[collection for collection in collections if len(collection) >= 3]"
   ]
  },
  {
   "cell_type": "code",
   "execution_count": null,
   "metadata": {},
   "outputs": [],
   "source": []
  }
 ],
 "metadata": {
  "kernelspec": {
   "display_name": "Python 3",
   "language": "python",
   "name": "python3"
  },
  "language_info": {
   "codemirror_mode": {
    "name": "ipython",
    "version": 3
   },
   "file_extension": ".py",
   "mimetype": "text/x-python",
   "name": "python",
   "nbconvert_exporter": "python",
   "pygments_lexer": "ipython3",
   "version": "3.7.3"
  }
 },
 "nbformat": 4,
 "nbformat_minor": 1
}
