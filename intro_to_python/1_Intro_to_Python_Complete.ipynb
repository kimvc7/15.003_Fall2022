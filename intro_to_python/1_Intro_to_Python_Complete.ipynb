{
 "cells": [
  {
   "cell_type": "markdown",
   "metadata": {},
   "source": [
    "# What is Python?\n",
    "\n",
    "Python is an _general-purpose programming language_. From the Python website:\n",
    "\n",
    "*Python is an easy to learn, powerful programming language. It has efficient high-level data structures and a simple but effective approach to object-oriented programming. Python’s elegant syntax and dynamic typing, together with its interpreted nature, make it an ideal language for scripting and rapid application development in many areas on most platforms.*\n",
    "\n",
    "Python is widely used for writing production code, automating tasks, running experiments, analyzing and visualizing data, building websites, among many others. \n",
    "\n",
    "Python is useful to know due to its immense popularity and versatility. Compared to languages such as C++, Python typically runs slower but is faster to develop. Compared to newer languages such as Julia, Python currently has more extensive collection of open-source libraries. \n"
   ]
  },
  {
   "cell_type": "markdown",
   "metadata": {},
   "source": [
    "# Variables\n",
    "Like Julia, Python is comprised of variables and functions. Let's see how to perform basic arithmetic operations"
   ]
  },
  {
   "cell_type": "markdown",
   "metadata": {},
   "source": [
    "## Numbers"
   ]
  },
  {
   "cell_type": "code",
   "execution_count": 1,
   "metadata": {},
   "outputs": [],
   "source": [
    "# Create a new variable\n",
    "x = 5"
   ]
  },
  {
   "cell_type": "code",
   "execution_count": 2,
   "metadata": {},
   "outputs": [
    {
     "name": "stdout",
     "output_type": "stream",
     "text": [
      "x + 3:  8\n",
      "2*x:  10\n",
      "x to the power of 2:  25\n",
      "The remainder of x / 3:  2\n",
      "x / 3:  1.6666666666666667\n"
     ]
    }
   ],
   "source": [
    "print(\"x + 3: \", x + 3)\n",
    "print(\"2*x: \", 2*x)\n",
    "print(\"x to the power of 2: \", x ** 2) \n",
    "print(\"The remainder of x / 3: \", x % 3)\n",
    "print(\"x / 3: \", x / 3)"
   ]
  },
  {
   "cell_type": "markdown",
   "metadata": {},
   "source": [
    "An integer divided by an integer rounded down to the nearest integer! To include the fractional part, we require that the numerator or denominator is stored as a float (i.e., a decimal number)."
   ]
  },
  {
   "cell_type": "code",
   "execution_count": 3,
   "metadata": {},
   "outputs": [
    {
     "data": {
      "text/plain": [
       "1.6666666666666667"
      ]
     },
     "execution_count": 3,
     "metadata": {},
     "output_type": "execute_result"
    }
   ],
   "source": [
    "x / 3.0"
   ]
  },
  {
   "cell_type": "markdown",
   "metadata": {},
   "source": [
    "If we have a decimal number, we can round it to the nearest number of decimal digits as follows."
   ]
  },
  {
   "cell_type": "code",
   "execution_count": 4,
   "metadata": {},
   "outputs": [
    {
     "name": "stdout",
     "output_type": "stream",
     "text": [
      "1.667\n"
     ]
    }
   ],
   "source": [
    "y = round(x / 3.0, 3)\n",
    "print(y)"
   ]
  },
  {
   "cell_type": "markdown",
   "metadata": {},
   "source": [
    "## Strings"
   ]
  },
  {
   "cell_type": "markdown",
   "metadata": {},
   "source": [
    "A string is a list of characters."
   ]
  },
  {
   "cell_type": "code",
   "execution_count": 6,
   "metadata": {},
   "outputs": [
    {
     "name": "stdout",
     "output_type": "stream",
     "text": [
      "Hello world!\n"
     ]
    }
   ],
   "source": [
    "my_str = \"Hello world!\"\n",
    "print(my_str)"
   ]
  },
  {
   "cell_type": "markdown",
   "metadata": {},
   "source": [
    "Strings can be represented in several forms."
   ]
  },
  {
   "cell_type": "code",
   "execution_count": 7,
   "metadata": {},
   "outputs": [
    {
     "name": "stdout",
     "output_type": "stream",
     "text": [
      "Hello world!\n",
      "Hello world!\n"
     ]
    }
   ],
   "source": [
    "# Single quotation\n",
    "print('Hello world!')\n",
    "\n",
    "# Double quotation\n",
    "print(\"Hello world!\")\n",
    "\n",
    "# Single and double quotations are equivalent"
   ]
  },
  {
   "cell_type": "code",
   "execution_count": 8,
   "metadata": {},
   "outputs": [
    {
     "name": "stdout",
     "output_type": "stream",
     "text": [
      "Hello\n",
      "\n",
      "World\n"
     ]
    }
   ],
   "source": [
    "# Multi-line\n",
    "print(\"\"\"Hello\n",
    "\n",
    "World\"\"\")"
   ]
  },
  {
   "cell_type": "markdown",
   "metadata": {},
   "source": [
    "Strings can be indexed, to obtain individual characters. Let's see some examples"
   ]
  },
  {
   "cell_type": "code",
   "execution_count": 9,
   "metadata": {},
   "outputs": [
    {
     "name": "stdout",
     "output_type": "stream",
     "text": [
      "Hello world!\n"
     ]
    }
   ],
   "source": [
    "print(my_str)"
   ]
  },
  {
   "cell_type": "code",
   "execution_count": 10,
   "metadata": {},
   "outputs": [
    {
     "name": "stdout",
     "output_type": "stream",
     "text": [
      "H\n"
     ]
    }
   ],
   "source": [
    "# Print the first character in my_str\n",
    "print(my_str[0])"
   ]
  },
  {
   "cell_type": "code",
   "execution_count": 11,
   "metadata": {},
   "outputs": [
    {
     "name": "stdout",
     "output_type": "stream",
     "text": [
      "!\n"
     ]
    }
   ],
   "source": [
    "# Print the last character in my_str\n",
    "print(my_str[-1])"
   ]
  },
  {
   "cell_type": "markdown",
   "metadata": {},
   "source": [
    "We see that the index -1 refers to the last character of a list. Negative indices gives us a convenient way to access characters at the end of the string."
   ]
  },
  {
   "cell_type": "code",
   "execution_count": 12,
   "metadata": {},
   "outputs": [
    {
     "name": "stdout",
     "output_type": "stream",
     "text": [
      "w\n",
      "o\n",
      "r\n",
      "l\n",
      "d\n",
      "!\n"
     ]
    }
   ],
   "source": [
    "print(my_str[-6])\n",
    "print(my_str[-5])\n",
    "print(my_str[-4])\n",
    "print(my_str[-3])\n",
    "print(my_str[-2])\n",
    "print(my_str[-1])"
   ]
  },
  {
   "cell_type": "markdown",
   "metadata": {},
   "source": [
    "We can slice a string as follows."
   ]
  },
  {
   "cell_type": "code",
   "execution_count": 13,
   "metadata": {},
   "outputs": [
    {
     "name": "stdout",
     "output_type": "stream",
     "text": [
      "Hel\n",
      "Hello worl\n"
     ]
    }
   ],
   "source": [
    "print(my_str[0:3])  # Return the first three characters (indices 0,1,2)\n",
    "print(my_str[0:-2]) # Return my_str, but remove the last two characters"
   ]
  },
  {
   "cell_type": "code",
   "execution_count": 14,
   "metadata": {},
   "outputs": [
    {
     "name": "stdout",
     "output_type": "stream",
     "text": [
      "Hello worl\n",
      "llo world!\n",
      "el ol!\n",
      "Hlowrd\n",
      "[' ', '!', 'H', 'd', 'e', 'l', 'l', 'l', 'o', 'o', 'r', 'w']\n"
     ]
    }
   ],
   "source": [
    "print(my_str[:-2]) # Return my_str, but remove the last two characters\n",
    "print(my_str[2:])  # Return my_str, but remove the first two characters\n",
    "print(my_str[1::2]) # Print the characters with odd indices\n",
    "print(my_str[::2]) # Print the characters with even indices\n",
    "print(sorted(my_str)) # Print the letters in sorted order"
   ]
  },
  {
   "cell_type": "code",
   "execution_count": 15,
   "metadata": {},
   "outputs": [
    {
     "name": "stdout",
     "output_type": "stream",
     "text": [
      "Helloorld!\n"
     ]
    }
   ],
   "source": [
    "# Create a new string, with the 5th and 6th characters removed \n",
    "my_short_str = my_str[0:5] + my_str[7:]\n",
    "print(my_short_str)"
   ]
  },
  {
   "cell_type": "code",
   "execution_count": 16,
   "metadata": {},
   "outputs": [
    {
     "name": "stdout",
     "output_type": "stream",
     "text": [
      "12\n",
      "10\n"
     ]
    }
   ],
   "source": [
    "# We can obtain the length of a string as follows\n",
    "print(len(my_str))\n",
    "print(len(my_short_str))"
   ]
  },
  {
   "cell_type": "code",
   "execution_count": 17,
   "metadata": {},
   "outputs": [
    {
     "ename": "TypeError",
     "evalue": "'str' object does not support item assignment",
     "output_type": "error",
     "traceback": [
      "\u001b[0;31m---------------------------------------------------------------------------\u001b[0m",
      "\u001b[0;31mTypeError\u001b[0m                                 Traceback (most recent call last)",
      "\u001b[0;32m<ipython-input-17-e0dbe98d7249>\u001b[0m in \u001b[0;36m<module>\u001b[0;34m\u001b[0m\n\u001b[1;32m      1\u001b[0m \u001b[0;31m# Strings are immutable, meaning that we cannot modify its values.\u001b[0m\u001b[0;34m\u001b[0m\u001b[0;34m\u001b[0m\u001b[0;34m\u001b[0m\u001b[0m\n\u001b[0;32m----> 2\u001b[0;31m \u001b[0mmy_str\u001b[0m\u001b[0;34m[\u001b[0m\u001b[0;36m3\u001b[0m\u001b[0;34m]\u001b[0m \u001b[0;34m=\u001b[0m \u001b[0;34m'c'\u001b[0m\u001b[0;34m\u001b[0m\u001b[0;34m\u001b[0m\u001b[0m\n\u001b[0m",
      "\u001b[0;31mTypeError\u001b[0m: 'str' object does not support item assignment"
     ]
    }
   ],
   "source": [
    "# Strings are immutable, meaning that we cannot modify its values. \n",
    "# Check that the following command prompts a TypeError\n",
    "my_str[3] = 'c'"
   ]
  },
  {
   "cell_type": "markdown",
   "metadata": {},
   "source": [
    "We have observed that adding two strings creates a new string"
   ]
  },
  {
   "cell_type": "code",
   "execution_count": 18,
   "metadata": {},
   "outputs": [
    {
     "data": {
      "text/plain": [
       "'Hello world!'"
      ]
     },
     "execution_count": 18,
     "metadata": {},
     "output_type": "execute_result"
    }
   ],
   "source": [
    "'Hello' + ' ' + 'world!'"
   ]
  },
  {
   "cell_type": "markdown",
   "metadata": {},
   "source": [
    "## Lists"
   ]
  },
  {
   "cell_type": "code",
   "execution_count": 19,
   "metadata": {},
   "outputs": [],
   "source": [
    "# Create a list of 0^2,...,5^2\n",
    "squares = [0,1,4,9,16,25]"
   ]
  },
  {
   "cell_type": "code",
   "execution_count": 20,
   "metadata": {},
   "outputs": [
    {
     "name": "stdout",
     "output_type": "stream",
     "text": [
      "0\n",
      "25\n",
      "[0, 1, 4]\n",
      "[9, 16, 25]\n",
      "6\n"
     ]
    }
   ],
   "source": [
    "# We interact with a list just like a string\n",
    "print(squares[0])   # Return the first entry\n",
    "print(squares[5])   # Return the sixth entry\n",
    "print(squares[:3])  # Return the first three entries\n",
    "print(squares[-3:]) # Return the last three entries\n",
    "print(len(squares)) # Return the length of the list"
   ]
  },
  {
   "cell_type": "markdown",
   "metadata": {},
   "source": [
    "Lists have many built-in functions. Let's see several of them. \n",
    "we can reverse a list, append an element to the start of the list, pop (return and remove) the last element,  insert an element,"
   ]
  },
  {
   "cell_type": "markdown",
   "metadata": {},
   "source": [
    "If the elements are all numbers, we can use a built-in `sum()` to add all the elements together."
   ]
  },
  {
   "cell_type": "code",
   "execution_count": 21,
   "metadata": {},
   "outputs": [
    {
     "name": "stdout",
     "output_type": "stream",
     "text": [
      "The sum of range(0, 10) is 45\n"
     ]
    }
   ],
   "source": [
    "l = range(10)\n",
    "print('The sum of', l, 'is', sum(l))"
   ]
  },
  {
   "cell_type": "code",
   "execution_count": 22,
   "metadata": {},
   "outputs": [
    {
     "data": {
      "text/plain": [
       "[123, 'abc', 3.14]"
      ]
     },
     "execution_count": 22,
     "metadata": {},
     "output_type": "execute_result"
    }
   ],
   "source": [
    "l = [123,'abc',3.14]\n",
    "l"
   ]
  },
  {
   "cell_type": "code",
   "execution_count": 23,
   "metadata": {},
   "outputs": [
    {
     "data": {
      "text/plain": [
       "[3.14, 'abc', 123]"
      ]
     },
     "execution_count": 23,
     "metadata": {},
     "output_type": "execute_result"
    }
   ],
   "source": [
    "# Reverse the elements of the list\n",
    "l.reverse() # Reverses the list\n",
    "l"
   ]
  },
  {
   "cell_type": "code",
   "execution_count": 24,
   "metadata": {},
   "outputs": [
    {
     "data": {
      "text/plain": [
       "[3.14, 'abc', 123, [5, 6]]"
      ]
     },
     "execution_count": 24,
     "metadata": {},
     "output_type": "execute_result"
    }
   ],
   "source": [
    "# Add an element to the end of the list\n",
    "l.append([5,6])\n",
    "l"
   ]
  },
  {
   "cell_type": "code",
   "execution_count": 25,
   "metadata": {},
   "outputs": [
    {
     "data": {
      "text/plain": [
       "[3.14, 'def', 123, [5, 6]]"
      ]
     },
     "execution_count": 25,
     "metadata": {},
     "output_type": "execute_result"
    }
   ],
   "source": [
    "# Change an element of the list\n",
    "l[1] = 'def'\n",
    "l"
   ]
  },
  {
   "cell_type": "code",
   "execution_count": 26,
   "metadata": {},
   "outputs": [
    {
     "name": "stdout",
     "output_type": "stream",
     "text": [
      "last:  [5, 6]\n",
      "l:  [3.14, 'def', 123]\n"
     ]
    }
   ],
   "source": [
    "# Pop (remove and return) the last element of the list\n",
    "last = l.pop()\n",
    "print('last: ', last)\n",
    "print('l: ', l)"
   ]
  },
  {
   "cell_type": "code",
   "execution_count": 27,
   "metadata": {},
   "outputs": [
    {
     "data": {
      "text/plain": [
       "[3.14, 'def', 123, [1, 2, 3], [4, 5, 6]]"
      ]
     },
     "execution_count": 27,
     "metadata": {},
     "output_type": "execute_result"
    }
   ],
   "source": [
    "# Combine two lists\n",
    "l + [[1,2,3],[4,5,6]]"
   ]
  },
  {
   "cell_type": "markdown",
   "metadata": {},
   "source": [
    "A very useful technique in lists is list comprehension. Here is an alternative way of describing the squared integers"
   ]
  },
  {
   "cell_type": "code",
   "execution_count": 28,
   "metadata": {},
   "outputs": [
    {
     "name": "stdout",
     "output_type": "stream",
     "text": [
      "[0, 1, 4, 9, 16, 25]\n"
     ]
    }
   ],
   "source": [
    "print([i ** 2 for i in range(6)])"
   ]
  },
  {
   "cell_type": "markdown",
   "metadata": {},
   "source": [
    "The function `range(n)` returns the list `[0,...,n-1]`. If we want to obtain the indices `[i,...,j-1]`, we can use the function `range(i,j)`."
   ]
  },
  {
   "cell_type": "code",
   "execution_count": 29,
   "metadata": {},
   "outputs": [
    {
     "name": "stdout",
     "output_type": "stream",
     "text": [
      "[3, 4, 5]\n"
     ]
    }
   ],
   "source": [
    "print([i for i in range(3,6)]) "
   ]
  },
  {
   "cell_type": "markdown",
   "metadata": {},
   "source": [
    "List comprehensions are very powerful! We can add `if` statements to the end of a list comprehension, to filter entries"
   ]
  },
  {
   "cell_type": "code",
   "execution_count": 30,
   "metadata": {},
   "outputs": [
    {
     "name": "stdout",
     "output_type": "stream",
     "text": [
      "[0, 3, 5, 6, 9, 10]\n",
      "[9987, 9990, 9993, 9995, 9996, 9999]\n"
     ]
    }
   ],
   "source": [
    "# Create a list of all integers between 0 and 10000 that are divisible by 3 or 5\n",
    "div_3_or_5 = [i for i in range(10000) if i % 5 == 0 or i % 3 == 0]\n",
    "\n",
    "print(div_3_or_5[:6])  # Print the first 6 numbers\n",
    "print(div_3_or_5[-6:]) # Print the last 6 numbers"
   ]
  },
  {
   "cell_type": "markdown",
   "metadata": {},
   "source": [
    "# Exercise\n",
    "1) For each index $i$, we can create a new string by removing the $i$-th character of `my_str`:\n",
    "* If `i=0`: `ello World!`\n",
    "* If `i=1`: `Hllo World!`\n",
    "* If `i=len(my_str)-1`: `Hello World`\n",
    "\n",
    "Create a list of all strings produced by removing a character from `my_str`."
   ]
  },
  {
   "cell_type": "code",
   "execution_count": 31,
   "metadata": {},
   "outputs": [],
   "source": [
    "my_str='Hello World!'"
   ]
  },
  {
   "cell_type": "code",
   "execution_count": 32,
   "metadata": {},
   "outputs": [
    {
     "name": "stdout",
     "output_type": "stream",
     "text": [
      "['ello World!', 'Hllo World!', 'Helo World!', 'Helo World!', 'Hell World!', 'HelloWorld!', 'Hello orld!', 'Hello Wrld!', 'Hello Wold!', 'Hello Word!', 'Hello Worl!', 'Hello World']\n"
     ]
    }
   ],
   "source": [
    "print([my_str[:i]+my_str[i+1:] for i in range(len(my_str))])"
   ]
  }
 ],
 "metadata": {
  "kernelspec": {
   "display_name": "Python 3",
   "language": "python",
   "name": "python3"
  },
  "language_info": {
   "codemirror_mode": {
    "name": "ipython",
    "version": 3
   },
   "file_extension": ".py",
   "mimetype": "text/x-python",
   "name": "python",
   "nbconvert_exporter": "python",
   "pygments_lexer": "ipython3",
   "version": "3.9.2"
  }
 },
 "nbformat": 4,
 "nbformat_minor": 1
}
