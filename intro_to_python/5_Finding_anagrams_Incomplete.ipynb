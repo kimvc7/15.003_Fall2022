{
 "cells": [
  {
   "cell_type": "markdown",
   "metadata": {},
   "source": [
    "# Finding Anagrams\n",
    "We will apply the tools we have learned thus far to write code to a spelling puzzle. According to Wikipedia, an Anagram is defined as follows.\n",
    "\n",
    "    An anagram is word or phrase formed by rearranging the letters of a different word or phrase, typically using all the original letters exactly once. For example, the word anagram can be rearranged into \"nag a ram\"\n",
    "\n",
    "Given the dataset of common English words, we want to write a function to find anagrams. Specifically, we want a function `Anagrams()` that returns a list of lists, where each inner list has the words which are anagrams of one another.\n",
    "\n",
    "For example, if `anagrams = Anagrams()`, then `anagrams` should contain the list `[art,rat,tar]`, since art, rat, and tar are in the word list and are mutually anagrams.\n",
    "\n",
    "Hint: the letters in a string can be sorted via the function `sorted()`.\n",
    "To convert a list of characters into a string, you can use `''.join(list_of_characters)`."
   ]
  },
  {
   "cell_type": "code",
   "execution_count": null,
   "metadata": {
    "collapsed": true
   },
   "outputs": [],
   "source": []
  }
 ],
 "metadata": {
  "kernelspec": {
   "display_name": "Python 3",
   "language": "python",
   "name": "python3"
  },
  "language_info": {
   "codemirror_mode": {
    "name": "ipython",
    "version": 3
   },
   "file_extension": ".py",
   "mimetype": "text/x-python",
   "name": "python",
   "nbconvert_exporter": "python",
   "pygments_lexer": "ipython3",
   "version": "3.7.3"
  }
 },
 "nbformat": 4,
 "nbformat_minor": 1
}
