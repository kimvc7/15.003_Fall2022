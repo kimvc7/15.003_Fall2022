{
 "cells": [
  {
   "cell_type": "markdown",
   "metadata": {},
   "source": [
    "# What is Python?\n",
    "\n",
    "Python is an _general-purpose programming language_. From the Python website:\n",
    "\n",
    "*Python is an easy to learn, powerful programming language. It has efficient high-level data structures and a simple but effective approach to object-oriented programming. Python’s elegant syntax and dynamic typing, together with its interpreted nature, make it an ideal language for scripting and rapid application development in many areas on most platforms.*\n",
    "\n",
    "Python is widely used for writing production code, automating tasks, running experiments, analyzing and visualizing data, building websites, among many others. \n",
    "\n",
    "Python is useful to know due to its immense popularity and versatility. Compared to languages such as C++, Python typically runs slower but is faster to develop. Compared to newer languages such as Julia, Python currently has more extensive collection of open-source libraries. \n"
   ]
  },
  {
   "cell_type": "markdown",
   "metadata": {},
   "source": [
    "# Variables\n",
    "Like Julia, Python is comprised of variables and functions. Let's see how to perform basic arithmetic operations"
   ]
  },
  {
   "cell_type": "markdown",
   "metadata": {},
   "source": [
    "## Numbers"
   ]
  },
  {
   "cell_type": "code",
   "execution_count": null,
   "metadata": {},
   "outputs": [],
   "source": [
    "# Create a new variable\n",
    "x = 5"
   ]
  },
  {
   "cell_type": "code",
   "execution_count": null,
   "metadata": {},
   "outputs": [],
   "source": [
    "print(\"x + 3: \", x + 3)\n",
    "print(\"2*x: \", 2*x)\n",
    "print(\"x to the power of 2: \", x ** 2) \n",
    "print(\"The remainder of x / 3: \", x % 3)\n",
    "print(\"x / 3: \", x / 3)"
   ]
  },
  {
   "cell_type": "markdown",
   "metadata": {},
   "source": [
    "An integer divided by an integer rounded down to the nearest integer! To include the fractional part, we require that the numerator or denominator is stored as a float (i.e., a decimal number)."
   ]
  },
  {
   "cell_type": "code",
   "execution_count": null,
   "metadata": {},
   "outputs": [],
   "source": [
    "x / 3.0"
   ]
  },
  {
   "cell_type": "markdown",
   "metadata": {},
   "source": [
    "If we have a decimal number, we can round it to the nearest number of decimal digits as follows."
   ]
  },
  {
   "cell_type": "code",
   "execution_count": null,
   "metadata": {},
   "outputs": [],
   "source": [
    "y = round(x / 3.0, 3)\n",
    "print(y)"
   ]
  },
  {
   "cell_type": "markdown",
   "metadata": {},
   "source": [
    "## Strings"
   ]
  },
  {
   "cell_type": "markdown",
   "metadata": {},
   "source": [
    "A string is a list of characters."
   ]
  },
  {
   "cell_type": "code",
   "execution_count": null,
   "metadata": {},
   "outputs": [],
   "source": [
    "my_str = \"Hello world!\"\n",
    "print(my_str)"
   ]
  },
  {
   "cell_type": "markdown",
   "metadata": {},
   "source": [
    "Strings can be represented in several forms."
   ]
  },
  {
   "cell_type": "code",
   "execution_count": null,
   "metadata": {},
   "outputs": [],
   "source": [
    "# Single quotation\n",
    "print('Hello world!')\n",
    "\n",
    "# Double quotation\n",
    "print(\"Hello world!\")\n",
    "\n",
    "# Single and double quotations are equivalent"
   ]
  },
  {
   "cell_type": "code",
   "execution_count": null,
   "metadata": {},
   "outputs": [],
   "source": [
    "# Multi-line\n",
    "print(\"\"\"Hello\n",
    "\n",
    "World\"\"\")"
   ]
  },
  {
   "cell_type": "markdown",
   "metadata": {},
   "source": [
    "Strings can be indexed, to obtain individual characters. Let's see some examples"
   ]
  },
  {
   "cell_type": "code",
   "execution_count": null,
   "metadata": {},
   "outputs": [],
   "source": [
    "print(my_str)"
   ]
  },
  {
   "cell_type": "code",
   "execution_count": null,
   "metadata": {},
   "outputs": [],
   "source": [
    "# Print the first character in my_str\n",
    "print(my_str[0])"
   ]
  },
  {
   "cell_type": "code",
   "execution_count": null,
   "metadata": {},
   "outputs": [],
   "source": [
    "# Print the last character in my_str\n",
    "print(my_str[-1])"
   ]
  },
  {
   "cell_type": "markdown",
   "metadata": {},
   "source": [
    "We see that the index -1 refers to the last character of a list. Negative indices gives us a convenient way to access characters at the end of the string."
   ]
  },
  {
   "cell_type": "code",
   "execution_count": null,
   "metadata": {},
   "outputs": [],
   "source": [
    "print(my_str[-6])\n",
    "print(my_str[-5])\n",
    "print(my_str[-4])\n",
    "print(my_str[-3])\n",
    "print(my_str[-2])\n",
    "print(my_str[-1])"
   ]
  },
  {
   "cell_type": "markdown",
   "metadata": {},
   "source": [
    "We can slice a string as follows."
   ]
  },
  {
   "cell_type": "code",
   "execution_count": null,
   "metadata": {},
   "outputs": [],
   "source": [
    "print(my_str[0:3])  # Return the first three characters (indices 0,1,2)\n",
    "print(my_str[0:-2]) # Return my_str, but remove the last two characters"
   ]
  },
  {
   "cell_type": "code",
   "execution_count": null,
   "metadata": {},
   "outputs": [],
   "source": [
    "print(my_str[:-2]) # Return my_str, but remove the last two characters\n",
    "print(my_str[2:])  # Return my_str, but remove the first two characters\n",
    "print(my_str[1::2]) # Print the characters with odd indices\n",
    "print(my_str[::2]) # Print the characters with even indices\n",
    "print(sorted(my_str)) # Print the letters in sorted order"
   ]
  },
  {
   "cell_type": "code",
   "execution_count": null,
   "metadata": {},
   "outputs": [],
   "source": [
    "# Create a new string, with the 5th and 6th characters removed \n",
    "my_short_str = my_str[0:5] + my_str[7:]\n",
    "print(my_short_str)"
   ]
  },
  {
   "cell_type": "code",
   "execution_count": null,
   "metadata": {},
   "outputs": [],
   "source": [
    "# We can obtain the length of a string as follows\n",
    "print(len(my_str))\n",
    "print(len(my_short_str))"
   ]
  },
  {
   "cell_type": "code",
   "execution_count": null,
   "metadata": {},
   "outputs": [],
   "source": [
    "# Strings are immutable, meaning that we cannot modify its values.\n",
    "my_str[3] = 'c'"
   ]
  },
  {
   "cell_type": "markdown",
   "metadata": {},
   "source": [
    "We have observed that adding two strings creates a new string"
   ]
  },
  {
   "cell_type": "code",
   "execution_count": null,
   "metadata": {},
   "outputs": [],
   "source": [
    "'Hello' + ' ' + 'world!'"
   ]
  },
  {
   "cell_type": "markdown",
   "metadata": {},
   "source": [
    "## Lists"
   ]
  },
  {
   "cell_type": "code",
   "execution_count": null,
   "metadata": {},
   "outputs": [],
   "source": [
    "# Create a list of 0^2,...,5^2\n",
    "squares = [0,1,4,9,16,25]"
   ]
  },
  {
   "cell_type": "code",
   "execution_count": null,
   "metadata": {},
   "outputs": [],
   "source": [
    "# We interact with a list just like a string\n",
    "print(squares[0])   # Return the first entry\n",
    "print(squares[5])   # Return the sixth entry\n",
    "print(squares[:3])  # Return the first three entries\n",
    "print(squares[-3:]) # Return the last three entries\n",
    "print(len(squares)) # Return the length of the list"
   ]
  },
  {
   "cell_type": "markdown",
   "metadata": {},
   "source": [
    "Lists have many built-in functions. Let's see several of them. \n",
    "we can reverse a list, append an element to the start of the list, pop (return and remove) the last element,  insert an element,"
   ]
  },
  {
   "cell_type": "markdown",
   "metadata": {},
   "source": [
    "If the elements are all numbers, we can use a built-in `sum()` to add all the elements together."
   ]
  },
  {
   "cell_type": "code",
   "execution_count": null,
   "metadata": {},
   "outputs": [],
   "source": [
    "l = range(10)\n",
    "print('The sum of', l, 'is', sum(l))"
   ]
  },
  {
   "cell_type": "code",
   "execution_count": null,
   "metadata": {},
   "outputs": [],
   "source": [
    "l = [123,'abc',3.14]\n",
    "l"
   ]
  },
  {
   "cell_type": "code",
   "execution_count": null,
   "metadata": {},
   "outputs": [],
   "source": [
    "# Reverse the elements of the list\n",
    "l.reverse() # Reverses the list\n",
    "l"
   ]
  },
  {
   "cell_type": "code",
   "execution_count": null,
   "metadata": {},
   "outputs": [],
   "source": [
    "# Add an element to the end of the list\n",
    "l.append([5,6])\n",
    "l"
   ]
  },
  {
   "cell_type": "code",
   "execution_count": null,
   "metadata": {},
   "outputs": [],
   "source": [
    "# Change an element of the list\n",
    "l[1] = 'def'\n",
    "l"
   ]
  },
  {
   "cell_type": "code",
   "execution_count": null,
   "metadata": {},
   "outputs": [],
   "source": [
    "# Pop (remove and return) the last element of the list\n",
    "last = l.pop()\n",
    "print('last: ', last)\n",
    "print('l: ', l)"
   ]
  },
  {
   "cell_type": "code",
   "execution_count": null,
   "metadata": {},
   "outputs": [],
   "source": [
    "# Combine two lists\n",
    "l + [[1,2,3],[4,5,6]]"
   ]
  },
  {
   "cell_type": "markdown",
   "metadata": {},
   "source": [
    "A very useful technique in lists is list comprehension. Here is an alternative way of describing the squared integers"
   ]
  },
  {
   "cell_type": "code",
   "execution_count": null,
   "metadata": {},
   "outputs": [],
   "source": [
    "print([i ** 2 for i in range(6)])"
   ]
  },
  {
   "cell_type": "markdown",
   "metadata": {},
   "source": [
    "The function `range(n)` returns the list `[0,...,n-1]`. If we want to obtain the indices `[i,...,j-1]`, we can use the function `range(i,j)`."
   ]
  },
  {
   "cell_type": "code",
   "execution_count": null,
   "metadata": {},
   "outputs": [],
   "source": [
    "print([i for i in range(3,6)]) "
   ]
  },
  {
   "cell_type": "markdown",
   "metadata": {},
   "source": [
    "List comprehensions are very powerful! We can add `if` statements to the end of a list comprehension, to filter entries"
   ]
  },
  {
   "cell_type": "code",
   "execution_count": null,
   "metadata": {},
   "outputs": [],
   "source": [
    "# Create a list of all integers between 0 and 10000 that are divisible by 3 or 5\n",
    "div_3_or_5 = [i for i in range(10000) if i % 5 == 0 or i % 3 == 0]\n",
    "\n",
    "print(div_3_or_5[:6])  # Print the first 6 numbers\n",
    "print(div_3_or_5[-6:]) # Print the last 6 numbers"
   ]
  },
  {
   "cell_type": "markdown",
   "metadata": {},
   "source": [
    "# Exercise\n",
    "1) For each index $i$, we can create a new string by removing the $i$-th character of `my_str`:\n",
    "* If `i=0`: `ello World!`\n",
    "* If `i=1`: `Hllo World!`\n",
    "* If `i=len(my_str)-1`: `Hello World`\n",
    "\n",
    "Create a list of all strings produced by removing a character from `my_str`."
   ]
  },
  {
   "cell_type": "code",
   "execution_count": null,
   "metadata": {},
   "outputs": [],
   "source": []
  },
  {
   "cell_type": "code",
   "execution_count": null,
   "metadata": {},
   "outputs": [],
   "source": []
  }
 ],
 "metadata": {
  "kernelspec": {
   "display_name": "Python 3",
   "language": "python",
   "name": "python3"
  },
  "language_info": {
   "codemirror_mode": {
    "name": "ipython",
    "version": 3
   },
   "file_extension": ".py",
   "mimetype": "text/x-python",
   "name": "python",
   "nbconvert_exporter": "python",
   "pygments_lexer": "ipython3",
   "version": "3.7.3"
  }
 },
 "nbformat": 4,
 "nbformat_minor": 1
}
