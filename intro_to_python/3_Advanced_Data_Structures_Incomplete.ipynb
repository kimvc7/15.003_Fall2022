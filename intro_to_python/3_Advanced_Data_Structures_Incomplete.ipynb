{
 "cells": [
  {
   "cell_type": "markdown",
   "metadata": {},
   "source": [
    "# Notebook 3 - Advanced Data Structures\n",
    "\n",
    "So far, we have seen numbers, strings, and lists. In this notebook, we will learn three more data structures, which allow us to organize data. The data structures are `tuple`, `set`, and `dict` (dictionary). "
   ]
  },
  {
   "cell_type": "markdown",
   "metadata": {},
   "source": [
    "## Tuples\n",
    "A tuple is like a list, but is immutable, meaning that it cannot be modified."
   ]
  },
  {
   "cell_type": "code",
   "execution_count": null,
   "metadata": {},
   "outputs": [],
   "source": [
    "tup = (1,'a',[1,2])\n",
    "tup"
   ]
  },
  {
   "cell_type": "code",
   "execution_count": null,
   "metadata": {},
   "outputs": [],
   "source": [
    "print(tup[1])\n",
    "print(tup[2][0])"
   ]
  },
  {
   "cell_type": "code",
   "execution_count": null,
   "metadata": {},
   "outputs": [],
   "source": [
    "tup[1] = 3"
   ]
  },
  {
   "cell_type": "code",
   "execution_count": null,
   "metadata": {},
   "outputs": [],
   "source": [
    "# We can turn a list into a tuple, and visa versa\n",
    "print(list(tup))\n",
    "print(tuple(list(tup)))"
   ]
  },
  {
   "cell_type": "code",
   "execution_count": null,
   "metadata": {},
   "outputs": [],
   "source": [
    "# We can have a tuple with a single item\n",
    "single_tup = (1,)\n",
    "print(single_tup)"
   ]
  },
  {
   "cell_type": "markdown",
   "metadata": {},
   "source": [
    "## Sets\n",
    "We consider the `set` data structure. The `set` is thought of similarly to how it is defined in mathematics: it is unordered, and has no duplicates. Let's contrast with the data structures we have seen thus far.\n",
    "\n",
    "* A `list` is an ordered, mutable collection of items\n",
    "* A `tuple` is an ordered, immutable collection of items\n",
    "* A `str` is an ordered, immutable collection of characters\n",
    "* A `set` is an unordered, mutable collection of distinct items"
   ]
  },
  {
   "cell_type": "code",
   "execution_count": null,
   "metadata": {},
   "outputs": [],
   "source": [
    "some_numbers = [0,2,1,1,2]\n",
    "my_set = set(some_numbers) # create a set out of the numbers\n",
    "\n",
    "print(my_set)"
   ]
  },
  {
   "cell_type": "markdown",
   "metadata": {},
   "source": [
    "We observed that, by turning a list into a set, we automatically removed the duplicates. This idea will work on any collection."
   ]
  },
  {
   "cell_type": "code",
   "execution_count": null,
   "metadata": {},
   "outputs": [],
   "source": [
    "my_string = 'aabbccda'\n",
    "my_set = set(my_string)\n",
    "\n",
    "print(my_set)"
   ]
  },
  {
   "cell_type": "code",
   "execution_count": null,
   "metadata": {},
   "outputs": [],
   "source": [
    "'a' in my_set\n",
    "'a' in my_set and 'e' not in my_set"
   ]
  },
  {
   "cell_type": "markdown",
   "metadata": {},
   "source": [
    "Suppose we wanted to remove `'a'` from `my_set`, but don't know the syntax for it. \n",
    "\n",
    "Fortunately, there is built-in help features.\n",
    "\n",
    "* Typing `my_set.<tab>` lists different member functions of `my_set`.\n",
    "* The function `help(my_set)` also lists different functions, along with explanations."
   ]
  },
  {
   "cell_type": "code",
   "execution_count": null,
   "metadata": {
    "scrolled": true
   },
   "outputs": [],
   "source": [
    "my_set."
   ]
  },
  {
   "cell_type": "code",
   "execution_count": null,
   "metadata": {},
   "outputs": [],
   "source": [
    "help(my_set)"
   ]
  },
  {
   "cell_type": "markdown",
   "metadata": {},
   "source": [
    "## Dictionaries"
   ]
  },
  {
   "cell_type": "markdown",
   "metadata": {},
   "source": [
    "These are *very* useful!\n",
    "\n",
    "Given $n$ values, a list `l` store $n$ values, which can be accessed by `l[i]` for each $i = 0,\\ldots,n-1$. \n",
    "\n",
    "A *dictionary* is a data structure that allows us to access values by general types of keys. This is useful in designing efficient algorithms and writing simple code."
   ]
  },
  {
   "cell_type": "code",
   "execution_count": null,
   "metadata": {},
   "outputs": [],
   "source": [
    "# Create a dictionary of produce and their prices\n",
    "product_prices = {} \n",
    "\n",
    "# Add produce and prices to the dictionary\n",
    "product_prices['apple'] = 2\n",
    "product_prices['banana'] = 2\n",
    "product_prices['carrot'] = 3\n",
    "\n",
    "# View the dictionary\n",
    "print(product_prices)\n"
   ]
  },
  {
   "cell_type": "markdown",
   "metadata": {},
   "source": [
    "Dictionaries behave in ways similar to a list."
   ]
  },
  {
   "cell_type": "code",
   "execution_count": null,
   "metadata": {},
   "outputs": [],
   "source": [
    "# Print the price of a banana\n",
    "print(product_prices['banana'])\n",
    "\n",
    "# Check if 'banana' is a key in the dictionary.\n",
    "print('banana' in product_prices)\n",
    "\n",
    "# Check if `donut` is a key in the dictonary.\n",
    "print('donut' in product_prices)"
   ]
  },
  {
   "cell_type": "markdown",
   "metadata": {},
   "source": [
    "Dictionaries allow us to access their keys and values directly."
   ]
  },
  {
   "cell_type": "code",
   "execution_count": null,
   "metadata": {},
   "outputs": [],
   "source": [
    "# View the keys of the dictionary\n",
    "produce = product_prices.keys()\n",
    "print(produce)"
   ]
  },
  {
   "cell_type": "code",
   "execution_count": null,
   "metadata": {},
   "outputs": [],
   "source": [
    "# The keys are a list\n",
    "type(produce)"
   ]
  },
  {
   "cell_type": "code",
   "execution_count": null,
   "metadata": {},
   "outputs": [],
   "source": [
    "# Using list comprehensions, we can find all produce that\n",
    "# have 6 characters in their name.\n",
    "print([name for name in product_prices if len(name) == 6])\n",
    "\n",
    "# Python knows that we want to iterate through the keys of product_prices.\n",
    "# Equivalently, we can use the following syntax.\n",
    "print([name for name in produce if len(name) == 6])"
   ]
  },
  {
   "cell_type": "code",
   "execution_count": null,
   "metadata": {},
   "outputs": [],
   "source": [
    "# We can find all produce that have a price of 2 dollars.\n",
    "print([name for name in product_prices if product_prices[name] == 2])"
   ]
  },
  {
   "cell_type": "code",
   "execution_count": null,
   "metadata": {},
   "outputs": [],
   "source": [
    "# Similarly, we can access the values of the dictionary\n",
    "print(product_prices.values())"
   ]
  },
  {
   "cell_type": "markdown",
   "metadata": {},
   "source": [
    "Dictionaries don't have to be indexed by strings. It can be indexed by numbers."
   ]
  },
  {
   "cell_type": "code",
   "execution_count": null,
   "metadata": {},
   "outputs": [],
   "source": [
    "my_dict = {1: 5, 'abc': '123'}\n",
    "print(my_dict)"
   ]
  },
  {
   "cell_type": "markdown",
   "metadata": {},
   "source": [
    "Dictionaries can be created in several ways. We have seen two so far.\n",
    "\n",
    "* Creating an empty dictionary with `{}`, then adding (key,value) pairs, one at a time.\n",
    "\n",
    "* Creating an dictionary at once as `{key1:val1, key2:val2, ...}`\n",
    "\n",
    "There are more ways to create dictionaries, that are convenient in different situations. We will see one more way.\n",
    "\n",
    "* Dictionary comprehension\n",
    "* Combining lists"
   ]
  },
  {
   "cell_type": "code",
   "execution_count": null,
   "metadata": {},
   "outputs": [],
   "source": [
    "# Create a dictionary, with a key of i^2 and a value of i for each i in 0,...,1000\n",
    "squared_numbers = {i**2: i for i in range(10)}\n",
    "\n",
    "print(81 in squared_numbers)\n",
    "print(squared_numbers[81])"
   ]
  },
  {
   "cell_type": "code",
   "execution_count": null,
   "metadata": {},
   "outputs": [],
   "source": [
    "names = ['alice','bob','cindy']\n",
    "sports = [['Archery', 'Badmitton'], ['Archery', 'Curling'], ['Badmitton', 'Diving']]\n",
    "\n",
    "# Create a dictionary mapping names to sports\n",
    "print({names[i]:sports[i] for i in range(len(names))})"
   ]
  },
  {
   "cell_type": "code",
   "execution_count": null,
   "metadata": {},
   "outputs": [],
   "source": [
    "# Alternative approach\n",
    "print(dict(zip(names,sports)))"
   ]
  },
  {
   "cell_type": "markdown",
   "metadata": {},
   "source": [
    "## Exercise\n",
    "### Part 1\n",
    "Obtain the list of common English words from the 'english_words.txt' file. \n",
    "\n",
    "### Part 2\n",
    "Create a dictionary called `length_to_words` that maps an integer `i` to the list of common English words that have that have `i` letters.\n",
    "\n",
    "Example: If the words were `['and','if','the']`, then the dictionary would be `{2: ['if'], 3: ['and','the']}`.\n",
    "\n",
    "Question: Why is a dictionary the correct choice for this data structure?\n",
    "\n",
    "### Part 3\n",
    "Create a dictionary named `length_to_num_words` that maps each length in `length_to_words` to the number of words with that length.\n",
    "\n",
    "Example: If the words were `['and','if','the']`, then the dictionary would be `{2: 1, 3: 2}`."
   ]
  },
  {
   "cell_type": "code",
   "execution_count": null,
   "metadata": {},
   "outputs": [],
   "source": []
  },
  {
   "cell_type": "code",
   "execution_count": null,
   "metadata": {},
   "outputs": [],
   "source": []
  },
  {
   "cell_type": "code",
   "execution_count": null,
   "metadata": {},
   "outputs": [],
   "source": []
  },
  {
   "cell_type": "code",
   "execution_count": null,
   "metadata": {},
   "outputs": [],
   "source": []
  }
 ],
 "metadata": {
  "kernelspec": {
   "display_name": "Python 3",
   "language": "python",
   "name": "python3"
  },
  "language_info": {
   "codemirror_mode": {
    "name": "ipython",
    "version": 3
   },
   "file_extension": ".py",
   "mimetype": "text/x-python",
   "name": "python",
   "nbconvert_exporter": "python",
   "pygments_lexer": "ipython3",
   "version": "3.7.3"
  }
 },
 "nbformat": 4,
 "nbformat_minor": 1
}
