{
 "cells": [
  {
   "cell_type": "markdown",
   "metadata": {},
   "source": [
    "# Notebook 4 - Control Flow\n",
    "\n",
    "We now have a substantial toolbox of the built-in data structures for organizing, analyzing, and processing data. We now shift our focus to control flow: that is, writing if-else statements, for loops, and functions. These help us write efficient and clear code."
   ]
  },
  {
   "cell_type": "markdown",
   "metadata": {},
   "source": [
    "## If-else statements\n",
    "Just like in Julia, Python has standard `if-else` statements. Let's see an example."
   ]
  },
  {
   "cell_type": "code",
   "execution_count": null,
   "metadata": {},
   "outputs": [],
   "source": [
    "x = 3\n",
    "if 2*x == 6:\n",
    "    print('2*x equals 6')\n",
    "    print('Hooray!')"
   ]
  },
  {
   "cell_type": "markdown",
   "metadata": {},
   "source": [
    "Some important points to note. \n",
    "* The `if` statement ends with a `:`\n",
    "* Python uses indents to denote which lines are encompasulated in the `if` statement\n",
    "\n",
    "Let's see examples which won't work."
   ]
  },
  {
   "cell_type": "code",
   "execution_count": null,
   "metadata": {},
   "outputs": [],
   "source": [
    "x = 3\n",
    "if 2*x == 6:\n",
    "    print('2*x equals 6')\n",
    "        print('Hooray!')"
   ]
  },
  {
   "cell_type": "markdown",
   "metadata": {},
   "source": [
    "We can add an `else` statement to handle the case where the expression fails."
   ]
  },
  {
   "cell_type": "code",
   "execution_count": null,
   "metadata": {},
   "outputs": [],
   "source": [
    "x = 4\n",
    "if 2*x == 6:\n",
    "    print('2*x equals 6')\n",
    "else:\n",
    "    print('2*x does not equal 6')"
   ]
  },
  {
   "cell_type": "markdown",
   "metadata": {},
   "source": [
    "Finally, we can add a `elif` if we want an else-if expression."
   ]
  },
  {
   "cell_type": "code",
   "execution_count": null,
   "metadata": {},
   "outputs": [],
   "source": [
    "x = 4\n",
    "if 2*x == 6:\n",
    "    print('2*x equals 5')\n",
    "    print('Hooray!')\n",
    "elif not (2*x > 8):\n",
    "    print('2*x does not equal 6, but is not greater than 8')"
   ]
  },
  {
   "cell_type": "markdown",
   "metadata": {},
   "source": [
    "## Loops\n",
    "We now discuss loops. We have already seen a type of loop, which is list and dictionary comprehensions! Essentially, a for-loop is just a list-comprehension, where the objective is to perform a general task at each iteration, as opposed to the creation of an item in a data structure."
   ]
  },
  {
   "cell_type": "code",
   "execution_count": null,
   "metadata": {},
   "outputs": [],
   "source": [
    "for i in range(5):\n",
    "    print(i, i**2)"
   ]
  },
  {
   "cell_type": "markdown",
   "metadata": {},
   "source": [
    "We could use a for loop to perform a list comprehension."
   ]
  },
  {
   "cell_type": "code",
   "execution_count": null,
   "metadata": {},
   "outputs": [],
   "source": [
    "my_list = []\n",
    "for i in range(5):\n",
    "    my_list.append((i,i**2))\n",
    "print(my_list)"
   ]
  },
  {
   "cell_type": "markdown",
   "metadata": {},
   "source": [
    "In order to monitor the progress for a loop and have an estimate of the remaining time, you can use the `tqdm` package"
   ]
  },
  {
   "cell_type": "code",
   "execution_count": null,
   "metadata": {},
   "outputs": [],
   "source": [
    "#!pip install tqdm # run only if it is not installed yet\n",
    "from tqdm import tqdm # imports the tqdm function from the tqdm package\n",
    "a = 0\n",
    "for i in tqdm(range(100000000)):\n",
    "    a += i\n",
    "print(i)"
   ]
  },
  {
   "cell_type": "markdown",
   "metadata": {},
   "source": [
    "A similar loop is a `while` loop, which runs until the expression is false."
   ]
  },
  {
   "cell_type": "code",
   "execution_count": null,
   "metadata": {},
   "outputs": [],
   "source": [
    "# Find the smallest value of n for which n^n >= 1000000\n",
    "n = 1\n",
    "while n**n < 1000000:\n",
    "    n += 1\n",
    "print(n)"
   ]
  },
  {
   "cell_type": "markdown",
   "metadata": {},
   "source": [
    "We could have used a for loop as well, but used `break` to exit once we found the value."
   ]
  },
  {
   "cell_type": "code",
   "execution_count": null,
   "metadata": {},
   "outputs": [],
   "source": [
    "# Find the smallest value of n for which n^n >= 1000000\n",
    "for i in range(1,100):\n",
    "    if i**i >= 1000000:\n",
    "        break\n",
    "print(i)"
   ]
  },
  {
   "cell_type": "markdown",
   "metadata": {},
   "source": [
    "## Functions\n",
    "A function in Python takes in zero or more arguments, and outputs a single argument. Let's see some examples."
   ]
  },
  {
   "cell_type": "code",
   "execution_count": null,
   "metadata": {},
   "outputs": [],
   "source": [
    "def addition(x,y):\n",
    "    return x + y\n",
    "    # return(x + y) # is also correct"
   ]
  },
  {
   "cell_type": "markdown",
   "metadata": {},
   "source": [
    "Notice that a function is defined with a `def`. This particular function takes two arguments, `x` and `y`, and returns their sum. Interestingly, the types of `x` and `y` do not need to be specified."
   ]
  },
  {
   "cell_type": "code",
   "execution_count": null,
   "metadata": {},
   "outputs": [],
   "source": [
    "print(addition(2,3))\n",
    "print(addition('Hello', ' world!'))"
   ]
  },
  {
   "cell_type": "markdown",
   "metadata": {},
   "source": [
    "A function can only return one variable. However, we can easily combine multiple variables into one via a tuple!"
   ]
  },
  {
   "cell_type": "code",
   "execution_count": null,
   "metadata": {},
   "outputs": [],
   "source": [
    "def pairwise_addition(x,y,z):\n",
    "    return x+y,x+z,y+z"
   ]
  },
  {
   "cell_type": "code",
   "execution_count": null,
   "metadata": {},
   "outputs": [],
   "source": [
    "x,y,z = pairwise_addition(1,2,3)\n",
    "print(x, y, z)"
   ]
  },
  {
   "cell_type": "markdown",
   "metadata": {},
   "source": [
    "## Exercise\n",
    "\n",
    "1) The Fibonacci sequence is the set of numbers $a_0,a_1,\\ldots$ that satisfy the following:\n",
    "\n",
    "$\\begin{align*}\n",
    "a_i = \\begin{cases}\n",
    "1, & \\text{if } i=0,1 \\\\\n",
    "a_{i-2} + a_{i-1}, &\\text{otherwise}.\n",
    "\\end{cases}\n",
    "\\end{align*}$\n",
    "\n",
    "Write a function `Fibonacci(n)` that produces a list of all Fibonacci numbers that do not exceed $n$, where $n$ is the input.\n",
    "\n",
    "2) Let's define the $k$-acci sequence to be the set of numbers $a_0,a_1,\\ldots$ that satisfy the following:\n",
    "\n",
    "$\\begin{align*}\n",
    "a_i = \\begin{cases}\n",
    "1, & \\text{if } i=0,\\ldots,k-1 \\\\\n",
    "\\sum_{j=1}^k a_{i-j}, &\\text{otherwise}.\n",
    "\\end{cases}\n",
    "\\end{align*}$\n",
    "\n",
    "Write a function `k_acci(n,k)` that produces a list of all k-acci numbers that do not exceed $n$.\n",
    "\n"
   ]
  },
  {
   "cell_type": "code",
   "execution_count": null,
   "metadata": {},
   "outputs": [],
   "source": []
  },
  {
   "cell_type": "code",
   "execution_count": null,
   "metadata": {},
   "outputs": [],
   "source": []
  },
  {
   "cell_type": "code",
   "execution_count": null,
   "metadata": {},
   "outputs": [],
   "source": []
  },
  {
   "cell_type": "code",
   "execution_count": null,
   "metadata": {},
   "outputs": [],
   "source": []
  }
 ],
 "metadata": {
  "kernelspec": {
   "display_name": "Python 3",
   "language": "python",
   "name": "python3"
  },
  "language_info": {
   "codemirror_mode": {
    "name": "ipython",
    "version": 3
   },
   "file_extension": ".py",
   "mimetype": "text/x-python",
   "name": "python",
   "nbconvert_exporter": "python",
   "pygments_lexer": "ipython3",
   "version": "3.7.3"
  }
 },
 "nbformat": 4,
 "nbformat_minor": 1
}
