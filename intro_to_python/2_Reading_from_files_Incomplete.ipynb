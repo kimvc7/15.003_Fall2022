{
 "cells": [
  {
   "cell_type": "markdown",
   "metadata": {},
   "source": [
    "# Notebook 2 - Reading from files\n",
    "\n",
    "Frequently, data is stored in files. In this notebook, we will use the tools we have learned thus far to read data from a file and analyze its contents.\n",
    "\n",
    "The file of interest is `english_words.txt`, which is a list of common US English words. \n",
    "\n",
    "There are several ways to open a file. We will see a few of them here."
   ]
  },
  {
   "cell_type": "code",
   "execution_count": null,
   "metadata": {},
   "outputs": [],
   "source": [
    "# Create a variable for the file name\n",
    "file_name = 'english_words.txt'\n",
    "\n",
    "# The following creates a list of strings, where each string is\n",
    "# a line in the file\n",
    "lines = [line for line in open(file_name)]"
   ]
  },
  {
   "cell_type": "code",
   "execution_count": null,
   "metadata": {},
   "outputs": [],
   "source": [
    "# Let's examine the lines of the file.\n",
    "print(\"Number of lines: \", len(lines))\n",
    "print(\"First line: \", lines[0]) \n",
    "print(r\"Last line: \", repr(lines[-1])) # Print the special characters"
   ]
  },
  {
   "cell_type": "markdown",
   "metadata": {},
   "source": [
    "Each line currently ends with a special character, such as `'\\n'` or `'\\t\\n'`, depending on the type of computer you are on. These symbols are called `newline`, and is interpreted by the computer as the end of the current line. \n",
    "\n",
    "Let's quickly see an example."
   ]
  },
  {
   "cell_type": "code",
   "execution_count": null,
   "metadata": {},
   "outputs": [],
   "source": [
    "print(\"Hello world!\")\n",
    "print(\"Hello world!\")\n",
    "print(\"Hello world!\\n\")\n",
    "print(\"Hello world!\\n\")"
   ]
  },
  {
   "cell_type": "markdown",
   "metadata": {},
   "source": [
    "We would like to remove those pesky newline characters, since they are not technically part of the word. Python has a built-in tool for this."
   ]
  },
  {
   "cell_type": "code",
   "execution_count": null,
   "metadata": {},
   "outputs": [],
   "source": [
    "s = \"Hello world!\\n\"\n",
    "print(repr(s))\n",
    "s = s.rstrip()  # Returns a new string, with the newline characters removed\n",
    "print(repr(s))"
   ]
  },
  {
   "cell_type": "markdown",
   "metadata": {},
   "source": [
    "# Exercise\n",
    "\n",
    "Using list comprehensions, find the number of words that contain an `a` and end with the letter `e`.\n"
   ]
  },
  {
   "cell_type": "code",
   "execution_count": null,
   "metadata": {},
   "outputs": [],
   "source": []
  },
  {
   "cell_type": "code",
   "execution_count": null,
   "metadata": {},
   "outputs": [],
   "source": []
  }
 ],
 "metadata": {
  "kernelspec": {
   "display_name": "Python 3",
   "language": "python",
   "name": "python3"
  },
  "language_info": {
   "codemirror_mode": {
    "name": "ipython",
    "version": 3
   },
   "file_extension": ".py",
   "mimetype": "text/x-python",
   "name": "python",
   "nbconvert_exporter": "python",
   "pygments_lexer": "ipython3",
   "version": "3.7.3"
  }
 },
 "nbformat": 4,
 "nbformat_minor": 1
}
