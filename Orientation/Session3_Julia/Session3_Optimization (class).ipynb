{
 "cells": [
  {
   "cell_type": "code",
   "execution_count": 1,
   "metadata": {},
   "outputs": [],
   "source": [
    "using Pkg\n",
    "# Pkg.add(\"DataFrames\")\n",
    "# Pkg.add(\"CSV\")"
   ]
  },
  {
   "cell_type": "code",
   "execution_count": 2,
   "metadata": {
    "scrolled": false
   },
   "outputs": [],
   "source": [
    "using CSV\n",
    "using DataFrames"
   ]
  },
  {
   "cell_type": "markdown",
   "metadata": {},
   "source": [
    "## What is JuMP?\n",
    "\n",
    "JuMP is a _modeling language_ for optimization problems, writen in Julia. \n",
    "\n",
    "When solving an optimization problem, you should use a _solver_ :  a software implementation of an optimization algorithm. Solvers typically need the problem to be written in a very specific format, which can be time-consuming and confusing.\n",
    "\n",
    "A modeling language (like JuMP) lets you code an optimization problem in a more natural way. It does the translation to the low-level solver format for you.\n",
    "\n",
    "There are a number of modeling languages out there. Why JuMP?\n",
    "\n",
    "* User-friendly\n",
    "* Matches performance of competitors\n",
    "* Solver-independent\n",
    "* Easy to extend and take advantage of advanced features"
   ]
  },
  {
   "cell_type": "markdown",
   "metadata": {},
   "source": [
    "### Installing JuMP\n",
    "\n",
    "To install JuMP, just run:"
   ]
  },
  {
   "cell_type": "code",
   "execution_count": 3,
   "metadata": {},
   "outputs": [],
   "source": [
    "#import Pkg\n",
    "#Pkg.add(\"JuMP\")"
   ]
  },
  {
   "cell_type": "markdown",
   "metadata": {},
   "source": [
    "We already did this in the preassignment. To actually solve a problem, we will also need to install a solver package. There are 15+ options exposed in julia, each with support for different problem classes, different performance profiles, licensing requirements, etc. For the preassignment, we installed **Gurobi**, a best-of-breed linear/integer programming solver with a generous academic license. A popular open-source alternative is **Cbc**, which can be accessed without a license and allows us to solve integer optimization problems."
   ]
  },
  {
   "cell_type": "code",
   "execution_count": 4,
   "metadata": {},
   "outputs": [],
   "source": [
    "#Pkg.add(\"Gurobi\")"
   ]
  },
  {
   "cell_type": "markdown",
   "metadata": {},
   "source": [
    "### A first example\n",
    "Let's see how we translate a simple, 2 variable LP to JuMP code.\n",
    "\n",
    "$$\n",
    "\\begin{align*}\n",
    "\\max_{x,y} \\quad& x + 2y \\\\\n",
    "\\text{s.t.}\\quad& x + y \\leq 1 \\\\\n",
    "& x, y \\geq 0.\n",
    "\\end{align*}\n",
    "$$\n",
    "\n",
    "First, we load the JuMP and Gurobi libraries."
   ]
  },
  {
   "cell_type": "code",
   "execution_count": 5,
   "metadata": {},
   "outputs": [],
   "source": [
    "using JuMP, Gurobi"
   ]
  },
  {
   "cell_type": "markdown",
   "metadata": {},
   "source": [
    "Next, we construct a model object. This is a container for everything in our optimization problem: variables, constraints, solver options, etc.\n",
    "Note that when we specify the solver we can also pass additional arguments (depending on the solver we choose). \n",
    "If you're experimenting with an optimization model, it's generally a good idea to set a short time limit for the solver calculations. This will (hopefully) force the solver to stop running if you accidentally pass it a very large model that it can't solve. "
   ]
  },
  {
   "cell_type": "code",
   "execution_count": 6,
   "metadata": {},
   "outputs": [
    {
     "name": "stdout",
     "output_type": "stream",
     "text": [
      "Academic license - for non-commercial use only - expires 2023-08-11\n"
     ]
    },
    {
     "data": {
      "text/plain": [
       "A JuMP Model\n",
       "Feasibility problem with:\n",
       "Variables: 0\n",
       "Model mode: AUTOMATIC\n",
       "CachingOptimizer state: EMPTY_OPTIMIZER\n",
       "Solver name: Gurobi"
      ]
     },
     "execution_count": 6,
     "metadata": {},
     "output_type": "execute_result"
    }
   ],
   "source": [
    "model = Model(with_optimizer(Gurobi.Optimizer,TimeLimit=60))"
   ]
  },
  {
   "cell_type": "markdown",
   "metadata": {},
   "source": [
    "Next, we define the two decision variables in our optimization problem. We will use the ``@variable`` macro (a fancy function, essentially). The first argument is the model object to attach the variable to, and the second specifies the variable name and any bounds."
   ]
  },
  {
   "cell_type": "code",
   "execution_count": 7,
   "metadata": {},
   "outputs": [
    {
     "data": {
      "text/latex": [
       "$$ y $$"
      ],
      "text/plain": [
       "y"
      ]
     },
     "execution_count": 7,
     "metadata": {},
     "output_type": "execute_result"
    }
   ],
   "source": [
    "@variable(model, x >= 0)\n",
    "@variable(model, y >= 0)"
   ]
  },
  {
   "cell_type": "code",
   "execution_count": 8,
   "metadata": {},
   "outputs": [
    {
     "data": {
      "text/plain": [
       "A JuMP Model\n",
       "Feasibility problem with:\n",
       "Variables: 2\n",
       "`VariableRef`-in-`MathOptInterface.GreaterThan{Float64}`: 2 constraints\n",
       "Model mode: AUTOMATIC\n",
       "CachingOptimizer state: EMPTY_OPTIMIZER\n",
       "Solver name: Gurobi\n",
       "Names registered in the model: x, y"
      ]
     },
     "execution_count": 8,
     "metadata": {},
     "output_type": "execute_result"
    }
   ],
   "source": [
    "model"
   ]
  },
  {
   "cell_type": "markdown",
   "metadata": {},
   "source": [
    "We now add the single constraint of our problem using the ``@constraint`` macro. We write it algebraically, exactly as we see it above."
   ]
  },
  {
   "cell_type": "code",
   "execution_count": 9,
   "metadata": {},
   "outputs": [
    {
     "data": {
      "text/plain": [
       "A JuMP Model\n",
       "Feasibility problem with:\n",
       "Variables: 2\n",
       "`AffExpr`-in-`MathOptInterface.LessThan{Float64}`: 1 constraint\n",
       "`VariableRef`-in-`MathOptInterface.GreaterThan{Float64}`: 2 constraints\n",
       "Model mode: AUTOMATIC\n",
       "CachingOptimizer state: EMPTY_OPTIMIZER\n",
       "Solver name: Gurobi\n",
       "Names registered in the model: x, y"
      ]
     },
     "execution_count": 9,
     "metadata": {},
     "output_type": "execute_result"
    }
   ],
   "source": [
    "@constraint(model, x + y <= 1)\n",
    "model"
   ]
  },
  {
   "cell_type": "markdown",
   "metadata": {},
   "source": [
    "We specify the objective function with the ``@objective`` macro."
   ]
  },
  {
   "cell_type": "code",
   "execution_count": 10,
   "metadata": {},
   "outputs": [
    {
     "data": {
      "text/latex": [
       "$$ x + 2 y $$"
      ],
      "text/plain": [
       "x + 2 y"
      ]
     },
     "execution_count": 10,
     "metadata": {},
     "output_type": "execute_result"
    }
   ],
   "source": [
    "@objective(model, Max, x + 2y)"
   ]
  },
  {
   "cell_type": "code",
   "execution_count": 11,
   "metadata": {},
   "outputs": [
    {
     "data": {
      "text/plain": [
       "A JuMP Model\n",
       "Maximization problem with:\n",
       "Variables: 2\n",
       "Objective function type: AffExpr\n",
       "`AffExpr`-in-`MathOptInterface.LessThan{Float64}`: 1 constraint\n",
       "`VariableRef`-in-`MathOptInterface.GreaterThan{Float64}`: 2 constraints\n",
       "Model mode: AUTOMATIC\n",
       "CachingOptimizer state: EMPTY_OPTIMIZER\n",
       "Solver name: Gurobi\n",
       "Names registered in the model: x, y"
      ]
     },
     "execution_count": 11,
     "metadata": {},
     "output_type": "execute_result"
    }
   ],
   "source": [
    "model"
   ]
  },
  {
   "cell_type": "markdown",
   "metadata": {},
   "source": [
    "To solve the optimization problem, call the ``optimize!`` function."
   ]
  },
  {
   "cell_type": "code",
   "execution_count": 12,
   "metadata": {},
   "outputs": [
    {
     "name": "stdout",
     "output_type": "stream",
     "text": [
      "Gurobi Optimizer version 9.1.1 build v9.1.1rc0 (mac64)\n",
      "Thread count: 6 physical cores, 12 logical processors, using up to 12 threads\n",
      "Optimize a model with 1 rows, 2 columns and 2 nonzeros\n",
      "Model fingerprint: 0xb93fdaf2\n",
      "Coefficient statistics:\n",
      "  Matrix range     [1e+00, 1e+00]\n",
      "  Objective range  [1e+00, 2e+00]\n",
      "  Bounds range     [0e+00, 0e+00]\n",
      "  RHS range        [1e+00, 1e+00]\n",
      "Presolve removed 1 rows and 2 columns\n",
      "Presolve time: 0.00s\n",
      "Presolve: All rows and columns removed\n",
      "Iteration    Objective       Primal Inf.    Dual Inf.      Time\n",
      "       0    2.0000000e+00   0.000000e+00   0.000000e+00      0s\n",
      "\n",
      "Solved in 0 iterations and 0.00 seconds\n",
      "Optimal objective  2.000000000e+00\n",
      "\n",
      "User-callback calls 27, time in user-callback 0.00 sec\n"
     ]
    },
    {
     "data": {
      "text/plain": [
       "OPTIMAL::TerminationStatusCode = 1"
      ]
     },
     "execution_count": 12,
     "metadata": {},
     "output_type": "execute_result"
    }
   ],
   "source": [
    "optimize!(model)\n",
    "termination_status(model)"
   ]
  },
  {
   "cell_type": "markdown",
   "metadata": {},
   "source": [
    "We can now inspect the solution values and optimal cost."
   ]
  },
  {
   "cell_type": "code",
   "execution_count": 13,
   "metadata": {},
   "outputs": [
    {
     "data": {
      "text/plain": [
       "0.0"
      ]
     },
     "execution_count": 13,
     "metadata": {},
     "output_type": "execute_result"
    }
   ],
   "source": [
    "JuMP.value(x)"
   ]
  },
  {
   "cell_type": "code",
   "execution_count": 14,
   "metadata": {},
   "outputs": [
    {
     "data": {
      "text/plain": [
       "1.0"
      ]
     },
     "execution_count": 14,
     "metadata": {},
     "output_type": "execute_result"
    }
   ],
   "source": [
    "JuMP.value(y)"
   ]
  },
  {
   "cell_type": "code",
   "execution_count": 15,
   "metadata": {},
   "outputs": [
    {
     "data": {
      "text/plain": [
       "2.0"
      ]
     },
     "execution_count": 15,
     "metadata": {},
     "output_type": "execute_result"
    }
   ],
   "source": [
    "JuMP.objective_value(model)"
   ]
  },
  {
   "cell_type": "markdown",
   "metadata": {},
   "source": [
    "#### Exercise 1\n",
    "\n",
    "Code and solve the following optimization problem:\n",
    "\n",
    "$$\n",
    "\\begin{align*}\n",
    "\\min_{x,y} \\quad& 3x - y \\\\\n",
    "\\text{s.t.}\\quad& x + 2y \\geq 1 \\\\\n",
    "& x \\geq 0 \\\\\n",
    "& 0 \\leq y \\leq 1.\n",
    "\\end{align*}\n",
    "$$"
   ]
  },
  {
   "cell_type": "code",
   "execution_count": 16,
   "metadata": {},
   "outputs": [],
   "source": [
    "## FILL IN HERE ##"
   ]
  },
  {
   "cell_type": "markdown",
   "metadata": {},
   "source": [
    "#### Exercise 2\n",
    "\n",
    "Take the problem from exercise 1 and make two copies below.\n",
    "* In the first copy, add a new constraint to make the problem **infeasible** (i.e., there are no values of x and y that satisfy all the constraints)\n",
    "* In the second copy, change the constraints or the objective function to make the problem unbounded (i.e., the optimal solution is infinite)\n",
    "\n",
    "Solve both versions of the problem and look at the ``termination_status`` to see if you have succeeded."
   ]
  },
  {
   "cell_type": "code",
   "execution_count": 17,
   "metadata": {},
   "outputs": [],
   "source": [
    "## FILL IN HERE ##"
   ]
  },
  {
   "cell_type": "code",
   "execution_count": 18,
   "metadata": {},
   "outputs": [],
   "source": [
    "## FILL IN HERE ##"
   ]
  },
  {
   "cell_type": "markdown",
   "metadata": {},
   "source": [
    "## Constructing the Olympics \"Dream Team\"\n",
    "Now, we're ready to start using optimization to formulate and solve real problems. Let's go back to our Olympics example."
   ]
  },
  {
   "cell_type": "markdown",
   "metadata": {},
   "source": [
    "First, let's load our 2018-2019 player data. This CSV file contains statistics for active US-born players in the 2018-2019 season. We have also added in information about whether each player appeared in the previous Olympics (2016) and the most recent NBA All-Star game as additional measures. \n",
    "\n",
    "Source: https://www.basketball-reference.com/"
   ]
  },
  {
   "cell_type": "code",
   "execution_count": 19,
   "metadata": {
    "scrolled": true
   },
   "outputs": [],
   "source": [
    "df = CSV.read(\"data/NBA_data_2018_2019.csv\", DataFrame);\n",
    "names(df);"
   ]
  },
  {
   "cell_type": "markdown",
   "metadata": {},
   "source": [
    "Let's see what this data looks like:"
   ]
  },
  {
   "cell_type": "code",
   "execution_count": 20,
   "metadata": {
    "scrolled": true
   },
   "outputs": [
    {
     "data": {
      "text/html": [
       "<div class=\"data-frame\"><p>10 rows × 32 columns (omitted printing of 23 columns)</p><table class=\"data-frame\"><thead><tr><th></th><th>ID</th><th>Player</th><th>Username</th><th>Pos</th><th>Age</th><th>Tm</th><th>G</th><th>MP</th><th>PER</th></tr><tr><th></th><th title=\"Int64\">Int64</th><th title=\"String31\">String31</th><th title=\"String15\">String15</th><th title=\"String7\">String7</th><th title=\"Int64\">Int64</th><th title=\"String3\">String3</th><th title=\"Int64\">Int64</th><th title=\"Int64\">Int64</th><th title=\"Float64\">Float64</th></tr></thead><tbody><tr><th>1</th><td>5</td><td>Bam Adebayo</td><td>adebaba01</td><td>C</td><td>21</td><td>MIA</td><td>82</td><td>1913</td><td>17.9</td></tr><tr><th>2</th><td>8</td><td>LaMarcus Aldridge</td><td>aldrila01</td><td>C</td><td>33</td><td>SAS</td><td>81</td><td>2687</td><td>22.9</td></tr><tr><th>3</th><td>11</td><td>Jarrett Allen</td><td>allenja01</td><td>C</td><td>20</td><td>BRK</td><td>80</td><td>2096</td><td>18.5</td></tr><tr><th>4</th><td>13</td><td>Al-Farouq Aminu</td><td>aminual01</td><td>PF</td><td>28</td><td>POR</td><td>81</td><td>2292</td><td>13.2</td></tr><tr><th>5</th><td>20</td><td>Carmelo Anthony</td><td>anthoca01</td><td>PF</td><td>34</td><td>HOU</td><td>10</td><td>294</td><td>10.9</td></tr><tr><th>6</th><td>22</td><td>Ryan Arcidiacono</td><td>arcidry01</td><td>PG</td><td>24</td><td>CHI</td><td>81</td><td>1961</td><td>11.6</td></tr><tr><th>7</th><td>23</td><td>Trevor Ariza</td><td>arizatr01</td><td>SF</td><td>33</td><td>TOT</td><td>69</td><td>2349</td><td>12.0</td></tr><tr><th>8</th><td>24</td><td>D.J. Augustin</td><td>augusdj01</td><td>PG</td><td>31</td><td>ORL</td><td>81</td><td>2269</td><td>15.7</td></tr><tr><th>9</th><td>27</td><td>Marvin Bagley</td><td>baglema01</td><td>PF</td><td>19</td><td>SAC</td><td>62</td><td>1567</td><td>18.9</td></tr><tr><th>10</th><td>33</td><td>Harrison Barnes</td><td>barneha02</td><td>PF-SF</td><td>26</td><td>TOT</td><td>77</td><td>2533</td><td>12.8</td></tr></tbody></table></div>"
      ],
      "text/latex": [
       "\\begin{tabular}{r|cccccccccc}\n",
       "\t& ID & Player & Username & Pos & Age & Tm & G & MP & PER & \\\\\n",
       "\t\\hline\n",
       "\t& Int64 & String31 & String15 & String7 & Int64 & String3 & Int64 & Int64 & Float64 & \\\\\n",
       "\t\\hline\n",
       "\t1 & 5 & Bam Adebayo & adebaba01 & C & 21 & MIA & 82 & 1913 & 17.9 & $\\dots$ \\\\\n",
       "\t2 & 8 & LaMarcus Aldridge & aldrila01 & C & 33 & SAS & 81 & 2687 & 22.9 & $\\dots$ \\\\\n",
       "\t3 & 11 & Jarrett Allen & allenja01 & C & 20 & BRK & 80 & 2096 & 18.5 & $\\dots$ \\\\\n",
       "\t4 & 13 & Al-Farouq Aminu & aminual01 & PF & 28 & POR & 81 & 2292 & 13.2 & $\\dots$ \\\\\n",
       "\t5 & 20 & Carmelo Anthony & anthoca01 & PF & 34 & HOU & 10 & 294 & 10.9 & $\\dots$ \\\\\n",
       "\t6 & 22 & Ryan Arcidiacono & arcidry01 & PG & 24 & CHI & 81 & 1961 & 11.6 & $\\dots$ \\\\\n",
       "\t7 & 23 & Trevor Ariza & arizatr01 & SF & 33 & TOT & 69 & 2349 & 12.0 & $\\dots$ \\\\\n",
       "\t8 & 24 & D.J. Augustin & augusdj01 & PG & 31 & ORL & 81 & 2269 & 15.7 & $\\dots$ \\\\\n",
       "\t9 & 27 & Marvin Bagley & baglema01 & PF & 19 & SAC & 62 & 1567 & 18.9 & $\\dots$ \\\\\n",
       "\t10 & 33 & Harrison Barnes & barneha02 & PF-SF & 26 & TOT & 77 & 2533 & 12.8 & $\\dots$ \\\\\n",
       "\\end{tabular}\n"
      ],
      "text/plain": [
       "\u001b[1m10×32 DataFrame\u001b[0m\n",
       "\u001b[1m Row \u001b[0m│\u001b[1m ID    \u001b[0m\u001b[1m Player            \u001b[0m\u001b[1m Username  \u001b[0m\u001b[1m Pos     \u001b[0m\u001b[1m Age   \u001b[0m\u001b[1m Tm      \u001b[0m\u001b[1m G     \u001b[0m\u001b[1m MP\u001b[0m ⋯\n",
       "\u001b[1m     \u001b[0m│\u001b[90m Int64 \u001b[0m\u001b[90m String31          \u001b[0m\u001b[90m String15  \u001b[0m\u001b[90m String7 \u001b[0m\u001b[90m Int64 \u001b[0m\u001b[90m String3 \u001b[0m\u001b[90m Int64 \u001b[0m\u001b[90m In\u001b[0m ⋯\n",
       "─────┼──────────────────────────────────────────────────────────────────────────\n",
       "   1 │     5  Bam Adebayo        adebaba01  C           21  MIA         82   1 ⋯\n",
       "   2 │     8  LaMarcus Aldridge  aldrila01  C           33  SAS         81   2\n",
       "   3 │    11  Jarrett Allen      allenja01  C           20  BRK         80   2\n",
       "   4 │    13  Al-Farouq Aminu    aminual01  PF          28  POR         81   2\n",
       "   5 │    20  Carmelo Anthony    anthoca01  PF          34  HOU         10     ⋯\n",
       "   6 │    22  Ryan Arcidiacono   arcidry01  PG          24  CHI         81   1\n",
       "   7 │    23  Trevor Ariza       arizatr01  SF          33  TOT         69   2\n",
       "   8 │    24  D.J. Augustin      augusdj01  PG          31  ORL         81   2\n",
       "   9 │    27  Marvin Bagley      baglema01  PF          19  SAC         62   1 ⋯\n",
       "  10 │    33  Harrison Barnes    barneha02  PF-SF       26  TOT         77   2\n",
       "\u001b[36m                                                              25 columns omitted\u001b[0m"
      ]
     },
     "execution_count": 20,
     "metadata": {},
     "output_type": "execute_result"
    }
   ],
   "source": [
    "first(df,10)"
   ]
  },
  {
   "cell_type": "markdown",
   "metadata": {},
   "source": [
    "### A Simple Model\n",
    "We'll start by coding up the simple model we sketched out in the slides."
   ]
  },
  {
   "cell_type": "code",
   "execution_count": 21,
   "metadata": {},
   "outputs": [
    {
     "name": "stdout",
     "output_type": "stream",
     "text": [
      "Academic license - for non-commercial use only - expires 2023-08-11\n"
     ]
    },
    {
     "data": {
      "text/plain": [
       "A JuMP Model\n",
       "Feasibility problem with:\n",
       "Variables: 0\n",
       "Model mode: AUTOMATIC\n",
       "CachingOptimizer state: EMPTY_OPTIMIZER\n",
       "Solver name: Gurobi"
      ]
     },
     "execution_count": 21,
     "metadata": {},
     "output_type": "execute_result"
    }
   ],
   "source": [
    "model = Model(with_optimizer(Gurobi.Optimizer,TimeLimit=60))"
   ]
  },
  {
   "cell_type": "markdown",
   "metadata": {},
   "source": [
    "### I. Defining the Decision Variables\n",
    "First we need to create our decision variables. Remember, we want to construct variables:\n",
    "\n",
    "$$\n",
    "    x_i=\\left\\{\n",
    "                \\begin{array}{ll}\n",
    "                  1 & \\text{if player $i$ is selected for the team,}\\\\\n",
    "                  0 & \\text{otherwise.}\n",
    "                \\end{array}\n",
    "              \\right.\n",
    "$$\n",
    "\n",
    "These are called **binary** variables since they only take on values between 0 and 1. We need an $x_i$ for all $i=1,\\ldots,N$."
   ]
  },
  {
   "cell_type": "code",
   "execution_count": 22,
   "metadata": {
    "scrolled": false
   },
   "outputs": [
    {
     "data": {
      "text/plain": [
       "200-element Vector{VariableRef}:\n",
       " x[1]\n",
       " x[2]\n",
       " x[3]\n",
       " x[4]\n",
       " x[5]\n",
       " x[6]\n",
       " x[7]\n",
       " x[8]\n",
       " x[9]\n",
       " x[10]\n",
       " x[11]\n",
       " x[12]\n",
       " x[13]\n",
       " ⋮\n",
       " x[189]\n",
       " x[190]\n",
       " x[191]\n",
       " x[192]\n",
       " x[193]\n",
       " x[194]\n",
       " x[195]\n",
       " x[196]\n",
       " x[197]\n",
       " x[198]\n",
       " x[199]\n",
       " x[200]"
      ]
     },
     "execution_count": 22,
     "metadata": {},
     "output_type": "execute_result"
    }
   ],
   "source": [
    "N = nrow(df)\n",
    "@variable(model, x[1:N], Bin)"
   ]
  },
  {
   "cell_type": "markdown",
   "metadata": {},
   "source": [
    "#### II. Formalizing the Objective\n",
    "\n",
    "We'll start with a basic objective, which is simply to maximize the average Player Efficiency Rating (PER) of the players on the selected team. We'll denote player $i$'s PER as $c_i$. We can then calculate the objective as:\n",
    "\n",
    "$$ \\frac{1}{12} \\sum_{i=1}^{N}(x_i*s_i)$$\n",
    "\n",
    "We can easily formulate this in JuMP:"
   ]
  },
  {
   "cell_type": "code",
   "execution_count": 23,
   "metadata": {},
   "outputs": [
    {
     "data": {
      "text/plain": [
       "200-element Vector{Float64}:\n",
       " 17.9\n",
       " 22.9\n",
       " 18.5\n",
       " 13.2\n",
       " 10.9\n",
       " 11.6\n",
       " 12.0\n",
       " 15.7\n",
       " 18.9\n",
       " 12.8\n",
       " 13.1\n",
       " 12.3\n",
       " 11.9\n",
       "  ⋮\n",
       " 15.8\n",
       " 21.7\n",
       "  7.0\n",
       " 21.1\n",
       " 14.8\n",
       " 23.5\n",
       " 21.2\n",
       " 12.6\n",
       " 12.8\n",
       " 15.5\n",
       " 16.2\n",
       " 17.0"
      ]
     },
     "execution_count": 23,
     "metadata": {},
     "output_type": "execute_result"
    }
   ],
   "source": [
    "s = df[!,:PER]"
   ]
  },
  {
   "cell_type": "code",
   "execution_count": 24,
   "metadata": {},
   "outputs": [
    {
     "data": {
      "text/latex": [
       "$$ 1.4916666666666665 x_{1} + 1.9083333333333332 x_{2} + 1.5416666666666665 x_{3} + 1.0999999999999999 x_{4} + 0.9083333333333333 x_{5} + 0.9666666666666666 x_{6} + x_{7} + 1.3083333333333331 x_{8} + 1.5749999999999997 x_{9} + 1.0666666666666667 x_{10} + 1.0916666666666666 x_{11} + 1.025 x_{12} + 0.9916666666666667 x_{13} + 1.7333333333333334 x_{14} + 1.1833333333333331 x_{15} + 1.075 x_{16} + 0.9 x_{17} + 0.9833333333333334 x_{18} + 1.6083333333333334 x_{19} + 1.6833333333333331 x_{20} + 0.6333333333333333 x_{21} + 0.9 x_{22} + 1.0916666666666666 x_{23} + 1.4833333333333334 x_{24} + 0.575 x_{25} + 1.125 x_{26} + 1.0666666666666667 x_{27} + 1.75 x_{28} + 0.875 x_{29} + 1.0583333333333331 x_{30} + 1.6833333333333331 x_{31} + 1.8583333333333334 x_{32} + 1.65 x_{33} + 1.075 x_{34} + 1.0083333333333333 x_{35} + 0.9833333333333334 x_{36} + 1.5 x_{37} + 0.6916666666666667 x_{38} + 1.4 x_{39} + 1.8166666666666667 x_{40} + 1.125 x_{41} + 1.3916666666666666 x_{42} + 1.7833333333333332 x_{43} + 1.1333333333333333 x_{44} + 1.0916666666666666 x_{45} + 1.7833333333333332 x_{46} + 0.8666666666666667 x_{47} + 0.9749999999999999 x_{48} + 1.0083333333333333 x_{49} + 0.8499999999999999 x_{50} + 0.95 x_{51} + 2.033333333333333 x_{52} + 2.525 x_{53} + 1.4416666666666667 x_{54} + 1.3333333333333333 x_{55} + 1.6333333333333333 x_{56} + 1.3583333333333334 x_{57} + 0.9 x_{58} + 1.9499999999999997 x_{59} + 2.0166666666666666 x_{60} + 0.9583333333333333 x_{61} + 1.8166666666666667 x_{62} + 0.5333333333333333 x_{63} + 1.0583333333333331 x_{64} + 0.9166666666666666 x_{65} + x_{66} + 1.5083333333333333 x_{67} + 0.8916666666666666 x_{68} + 1.4583333333333333 x_{69} + 1.9416666666666667 x_{70} + 1.4833333333333334 x_{71} + 1.2583333333333333 x_{72} + 1.0166666666666666 x_{73} + 1.15 x_{74} + 0.9 x_{75} + 1.0833333333333333 x_{76} + 1.075 x_{77} + 0.95 x_{78} + 1.2249999999999999 x_{79} + 1.1333333333333333 x_{80} + 1.75 x_{81} + 1.1333333333333333 x_{82} + 2.55 x_{83} + 1.0999999999999999 x_{84} + 1.9499999999999997 x_{85} + 0.8916666666666666 x_{86} + 1.125 x_{87} + 1.4333333333333331 x_{88} + 1.5166666666666666 x_{89} + 1.275 x_{90} + 1.0333333333333332 x_{91} + 0.775 x_{92} + 1.2999999999999998 x_{93} + 1.0083333333333333 x_{94} + 1.6166666666666665 x_{95} + 0.8333333333333333 x_{96} + 1.7249999999999999 x_{97} + 1.025 x_{98} + 1.4499999999999997 x_{99} + 0.8416666666666666 x_{100} + 1.0916666666666666 x_{101} + 1.1166666666666667 x_{102} + 1.0833333333333333 x_{103} + 0.7249999999999999 x_{104} + 0.7833333333333333 x_{105} + 0.8833333333333333 x_{106} + 0.9416666666666667 x_{107} + 2.1333333333333333 x_{108} + 0.7999999999999999 x_{109} + 1.1666666666666665 x_{110} + 1.1416666666666666 x_{111} + 1.5833333333333333 x_{112} + 1.5 x_{113} + 1.8416666666666668 x_{114} + 0.9916666666666667 x_{115} + 1.1083333333333334 x_{116} + 0.7249999999999999 x_{117} + 0.9333333333333332 x_{118} + 1.1666666666666665 x_{119} + 1.4416666666666667 x_{120} + 1.5583333333333331 x_{121} + 1.125 x_{122} + 2.15 x_{123} + 1.3166666666666667 x_{124} + 1.9749999999999999 x_{125} + 1.125 x_{126} + 0.9749999999999999 x_{127} + 1.4416666666666667 x_{128} + 1.2166666666666666 x_{129} + 1.325 x_{130} + 1.625 x_{131} + 1.375 x_{132} + 0.8583333333333334 x_{133} + 1.4166666666666665 x_{134} + 1.1166666666666667 x_{135} + 0.9666666666666666 x_{136} + 1.8166666666666667 x_{137} + 0.7833333333333333 x_{138} + 0.9333333333333332 x_{139} + 1.375 x_{140} + 0.7 x_{141} + 1.4916666666666665 x_{142} + 1.4333333333333331 x_{143} + 0.9833333333333334 x_{144} + 1.1833333333333331 x_{145} + 1.3499999999999999 x_{146} + 0.9 x_{147} + 1.55 x_{148} + 1.6083333333333334 x_{149} + 0.7999999999999999 x_{150} + 0.75 x_{151} + 1.4666666666666668 x_{152} + 1.2666666666666666 x_{153} + 1.1416666666666666 x_{154} + 1.2916666666666665 x_{155} + 0.6749999999999999 x_{156} + 1.6416666666666666 x_{157} + 1.4833333333333334 x_{158} + 1.1083333333333334 x_{159} + 1.75 x_{160} + 1.2583333333333333 x_{161} + 1.1666666666666665 x_{162} + 0.6416666666666666 x_{163} + 1.8333333333333333 x_{164} + 1.2833333333333332 x_{165} + 1.075 x_{166} + 1.6166666666666665 x_{167} + 1.8249999999999997 x_{168} + 0.7166666666666666 x_{169} + 0.6916666666666667 x_{170} + x_{171} + 0.9166666666666666 x_{172} + 0.7583333333333333 x_{173} + 1.0916666666666666 x_{174} + 0.8916666666666666 x_{175} + 0.9833333333333334 x_{176} + 1.2583333333333333 x_{177} + 0.7083333333333333 x_{178} + 1.3833333333333333 x_{179} + 0.43333333333333335 x_{180} + 0.7166666666666666 x_{181} + 2.1916666666666664 x_{182} + 1.0166666666666666 x_{183} + 0.7666666666666666 x_{184} + 0.9666666666666666 x_{185} + 1.5 x_{186} + 1.1416666666666666 x_{187} + 1.1583333333333332 x_{188} + 1.3166666666666667 x_{189} + 1.8083333333333331 x_{190} + 0.5833333333333333 x_{191} + 1.7583333333333333 x_{192} + 1.2333333333333334 x_{193} + 1.9583333333333333 x_{194} + 1.7666666666666666 x_{195} + 1.0499999999999998 x_{196} + 1.0666666666666667 x_{197} + 1.2916666666666665 x_{198} + 1.3499999999999999 x_{199} + 1.4166666666666665 x_{200} $$"
      ],
      "text/plain": [
       "1.4916666666666665 x[1] + 1.9083333333333332 x[2] + 1.5416666666666665 x[3] + 1.0999999999999999 x[4] + 0.9083333333333333 x[5] + 0.9666666666666666 x[6] + x[7] + 1.3083333333333331 x[8] + 1.5749999999999997 x[9] + 1.0666666666666667 x[10] + 1.0916666666666666 x[11] + 1.025 x[12] + 0.9916666666666667 x[13] + 1.7333333333333334 x[14] + 1.1833333333333331 x[15] + 1.075 x[16] + 0.9 x[17] + 0.9833333333333334 x[18] + 1.6083333333333334 x[19] + 1.6833333333333331 x[20] + 0.6333333333333333 x[21] + 0.9 x[22] + 1.0916666666666666 x[23] + 1.4833333333333334 x[24] + 0.575 x[25] + 1.125 x[26] + 1.0666666666666667 x[27] + 1.75 x[28] + 0.875 x[29] + 1.0583333333333331 x[30] + 1.6833333333333331 x[31] + 1.8583333333333334 x[32] + 1.65 x[33] + 1.075 x[34] + 1.0083333333333333 x[35] + 0.9833333333333334 x[36] + 1.5 x[37] + 0.6916666666666667 x[38] + 1.4 x[39] + 1.8166666666666667 x[40] + 1.125 x[41] + 1.3916666666666666 x[42] + 1.7833333333333332 x[43] + 1.1333333333333333 x[44] + 1.0916666666666666 x[45] + 1.7833333333333332 x[46] + 0.8666666666666667 x[47] + 0.9749999999999999 x[48] + 1.0083333333333333 x[49] + 0.8499999999999999 x[50] + 0.95 x[51] + 2.033333333333333 x[52] + 2.525 x[53] + 1.4416666666666667 x[54] + 1.3333333333333333 x[55] + 1.6333333333333333 x[56] + 1.3583333333333334 x[57] + 0.9 x[58] + 1.9499999999999997 x[59] + 2.0166666666666666 x[60] + 0.9583333333333333 x[61] + 1.8166666666666667 x[62] + 0.5333333333333333 x[63] + 1.0583333333333331 x[64] + 0.9166666666666666 x[65] + x[66] + 1.5083333333333333 x[67] + 0.8916666666666666 x[68] + 1.4583333333333333 x[69] + 1.9416666666666667 x[70] + 1.4833333333333334 x[71] + 1.2583333333333333 x[72] + 1.0166666666666666 x[73] + 1.15 x[74] + 0.9 x[75] + 1.0833333333333333 x[76] + 1.075 x[77] + 0.95 x[78] + 1.2249999999999999 x[79] + 1.1333333333333333 x[80] + 1.75 x[81] + 1.1333333333333333 x[82] + 2.55 x[83] + 1.0999999999999999 x[84] + 1.9499999999999997 x[85] + 0.8916666666666666 x[86] + 1.125 x[87] + 1.4333333333333331 x[88] + 1.5166666666666666 x[89] + 1.275 x[90] + 1.0333333333333332 x[91] + 0.775 x[92] + 1.2999999999999998 x[93] + 1.0083333333333333 x[94] + 1.6166666666666665 x[95] + 0.8333333333333333 x[96] + 1.7249999999999999 x[97] + 1.025 x[98] + 1.4499999999999997 x[99] + 0.8416666666666666 x[100] + 1.0916666666666666 x[101] + 1.1166666666666667 x[102] + 1.0833333333333333 x[103] + 0.7249999999999999 x[104] + 0.7833333333333333 x[105] + 0.8833333333333333 x[106] + 0.9416666666666667 x[107] + 2.1333333333333333 x[108] + 0.7999999999999999 x[109] + 1.1666666666666665 x[110] + 1.1416666666666666 x[111] + 1.5833333333333333 x[112] + 1.5 x[113] + 1.8416666666666668 x[114] + 0.9916666666666667 x[115] + 1.1083333333333334 x[116] + 0.7249999999999999 x[117] + 0.9333333333333332 x[118] + 1.1666666666666665 x[119] + 1.4416666666666667 x[120] + 1.5583333333333331 x[121] + 1.125 x[122] + 2.15 x[123] + 1.3166666666666667 x[124] + 1.9749999999999999 x[125] + 1.125 x[126] + 0.9749999999999999 x[127] + 1.4416666666666667 x[128] + 1.2166666666666666 x[129] + 1.325 x[130] + 1.625 x[131] + 1.375 x[132] + 0.8583333333333334 x[133] + 1.4166666666666665 x[134] + 1.1166666666666667 x[135] + 0.9666666666666666 x[136] + 1.8166666666666667 x[137] + 0.7833333333333333 x[138] + 0.9333333333333332 x[139] + 1.375 x[140] + 0.7 x[141] + 1.4916666666666665 x[142] + 1.4333333333333331 x[143] + 0.9833333333333334 x[144] + 1.1833333333333331 x[145] + 1.3499999999999999 x[146] + 0.9 x[147] + 1.55 x[148] + 1.6083333333333334 x[149] + 0.7999999999999999 x[150] + 0.75 x[151] + 1.4666666666666668 x[152] + 1.2666666666666666 x[153] + 1.1416666666666666 x[154] + 1.2916666666666665 x[155] + 0.6749999999999999 x[156] + 1.6416666666666666 x[157] + 1.4833333333333334 x[158] + 1.1083333333333334 x[159] + 1.75 x[160] + 1.2583333333333333 x[161] + 1.1666666666666665 x[162] + 0.6416666666666666 x[163] + 1.8333333333333333 x[164] + 1.2833333333333332 x[165] + 1.075 x[166] + 1.6166666666666665 x[167] + 1.8249999999999997 x[168] + 0.7166666666666666 x[169] + 0.6916666666666667 x[170] + x[171] + 0.9166666666666666 x[172] + 0.7583333333333333 x[173] + 1.0916666666666666 x[174] + 0.8916666666666666 x[175] + 0.9833333333333334 x[176] + 1.2583333333333333 x[177] + 0.7083333333333333 x[178] + 1.3833333333333333 x[179] + 0.43333333333333335 x[180] + 0.7166666666666666 x[181] + 2.1916666666666664 x[182] + 1.0166666666666666 x[183] + 0.7666666666666666 x[184] + 0.9666666666666666 x[185] + 1.5 x[186] + 1.1416666666666666 x[187] + 1.1583333333333332 x[188] + 1.3166666666666667 x[189] + 1.8083333333333331 x[190] + 0.5833333333333333 x[191] + 1.7583333333333333 x[192] + 1.2333333333333334 x[193] + 1.9583333333333333 x[194] + 1.7666666666666666 x[195] + 1.0499999999999998 x[196] + 1.0666666666666667 x[197] + 1.2916666666666665 x[198] + 1.3499999999999999 x[199] + 1.4166666666666665 x[200]"
      ]
     },
     "execution_count": 24,
     "metadata": {},
     "output_type": "execute_result"
    }
   ],
   "source": [
    "s = df[!,:PER]\n",
    "@objective(model, Max, 1/12*sum(x[i]*s[i] for i=1:N))"
   ]
  },
  {
   "cell_type": "markdown",
   "metadata": {},
   "source": [
    "#### III. Constructing the Constraints \n",
    "\n",
    "Now that we have defined our variables and quantified our goal, we need to specify what requirements any team must satisfy. Let's start by just placing a constraint on team size. "
   ]
  },
  {
   "cell_type": "code",
   "execution_count": 25,
   "metadata": {},
   "outputs": [],
   "source": [
    "@constraint(model, sum(x[i] for i=1:N) == 12);"
   ]
  },
  {
   "cell_type": "markdown",
   "metadata": {},
   "source": [
    "#### IV. Solving the Model\n",
    "We have specified the three key elements of any mixed-integer optimization model: \n",
    "- Decision Variables\n",
    "- Objective \n",
    "- Feasibility Constraints\n",
    "\n",
    "We're ready to solve the model!"
   ]
  },
  {
   "cell_type": "code",
   "execution_count": 26,
   "metadata": {},
   "outputs": [
    {
     "data": {
      "text/plain": [
       "A JuMP Model\n",
       "Maximization problem with:\n",
       "Variables: 200\n",
       "Objective function type: AffExpr\n",
       "`AffExpr`-in-`MathOptInterface.EqualTo{Float64}`: 1 constraint\n",
       "`VariableRef`-in-`MathOptInterface.ZeroOne`: 200 constraints\n",
       "Model mode: AUTOMATIC\n",
       "CachingOptimizer state: EMPTY_OPTIMIZER\n",
       "Solver name: Gurobi\n",
       "Names registered in the model: x"
      ]
     },
     "execution_count": 26,
     "metadata": {},
     "output_type": "execute_result"
    }
   ],
   "source": [
    "model"
   ]
  },
  {
   "cell_type": "code",
   "execution_count": 27,
   "metadata": {
    "scrolled": true
   },
   "outputs": [
    {
     "name": "stdout",
     "output_type": "stream",
     "text": [
      "Gurobi Optimizer version 9.1.1 build v9.1.1rc0 (mac64)\n",
      "Thread count: 6 physical cores, 12 logical processors, using up to 12 threads\n",
      "Optimize a model with 1 rows, 200 columns and 200 nonzeros\n",
      "Model fingerprint: 0x2f1de7f2\n",
      "Variable types: 0 continuous, 200 integer (200 binary)\n",
      "Coefficient statistics:\n",
      "  Matrix range     [1e+00, 1e+00]\n",
      "  Objective range  [4e-01, 3e+00]\n",
      "  Bounds range     [0e+00, 0e+00]\n",
      "  RHS range        [1e+01, 1e+01]\n",
      "Found heuristic solution: objective 14.9833333\n",
      "Presolve removed 1 rows and 200 columns\n",
      "Presolve time: 0.01s\n",
      "Presolve: All rows and columns removed\n",
      "\n",
      "Explored 0 nodes (0 simplex iterations) in 0.02 seconds\n",
      "Thread count was 1 (of 12 available processors)\n",
      "\n",
      "Solution count 2: 25.375 \n",
      "\n",
      "Optimal solution found (tolerance 1.00e-04)\n",
      "Best objective 2.537500000000e+01, best bound 2.537500000000e+01, gap 0.0000%\n",
      "\n",
      "User-callback calls 38, time in user-callback 0.00 sec\n"
     ]
    }
   ],
   "source": [
    "optimize!(model);"
   ]
  },
  {
   "cell_type": "markdown",
   "metadata": {},
   "source": [
    "Let's see what our results look like: we can look at the values of our decision variables $x_1,\\ldots,x_N$ to see which indices were set to 1. These indices correspond to the players that were selected for the team."
   ]
  },
  {
   "cell_type": "code",
   "execution_count": 28,
   "metadata": {
    "scrolled": true
   },
   "outputs": [
    {
     "data": {
      "text/plain": [
       "200-element Vector{Float64}:\n",
       " 0.0\n",
       " 0.0\n",
       " 0.0\n",
       " 0.0\n",
       " 0.0\n",
       " 0.0\n",
       " 0.0\n",
       " 0.0\n",
       " 0.0\n",
       " 0.0\n",
       " 0.0\n",
       " 0.0\n",
       " 0.0\n",
       " ⋮\n",
       " 0.0\n",
       " 0.0\n",
       " 0.0\n",
       " 0.0\n",
       " 0.0\n",
       " 1.0\n",
       " 0.0\n",
       " 0.0\n",
       " 0.0\n",
       " 0.0\n",
       " 0.0\n",
       " 0.0"
      ]
     },
     "execution_count": 28,
     "metadata": {},
     "output_type": "execute_result"
    }
   ],
   "source": [
    "selection_indices = value.(x)"
   ]
  },
  {
   "cell_type": "code",
   "execution_count": 29,
   "metadata": {
    "scrolled": false
   },
   "outputs": [
    {
     "data": {
      "text/plain": [
       "12-element Vector{String31}:\n",
       " \"Stephen Curry\"\n",
       " \"Anthony Davis\"\n",
       " \"Andre Drummond\"\n",
       " \"Kevin Durant\"\n",
       " \"Paul George\"\n",
       " \"James Harden\"\n",
       " \"Montrezl Harrell\"\n",
       " \"LeBron James\"\n",
       " \"Kawhi Leonard\"\n",
       " \"Damian Lillard\"\n",
       " \"Karl-Anthony Towns\"\n",
       " \"Hassan Whiteside\""
      ]
     },
     "execution_count": 29,
     "metadata": {},
     "output_type": "execute_result"
    }
   ],
   "source": [
    "selected_players = df[selection_indices.==1,:Player]"
   ]
  },
  {
   "cell_type": "code",
   "execution_count": 30,
   "metadata": {},
   "outputs": [
    {
     "data": {
      "text/plain": [
       "25.374999999999996"
      ]
     },
     "execution_count": 30,
     "metadata": {},
     "output_type": "execute_result"
    }
   ],
   "source": [
    "objective_value(model)"
   ]
  },
  {
   "cell_type": "markdown",
   "metadata": {},
   "source": [
    "How well does this match the list of finalists for the Olympics? "
   ]
  },
  {
   "cell_type": "code",
   "execution_count": 31,
   "metadata": {},
   "outputs": [
    {
     "data": {
      "text/html": [
       "<div class=\"data-frame\"><p>12 rows × 5 columns</p><table class=\"data-frame\"><thead><tr><th></th><th>Player</th><th>Pos</th><th>AllStar</th><th>Olympics2016</th><th>OlympicsFinalist</th></tr><tr><th></th><th title=\"String31\">String31</th><th title=\"String7\">String7</th><th title=\"Int64\">Int64</th><th title=\"Int64\">Int64</th><th title=\"Int64\">Int64</th></tr></thead><tbody><tr><th>1</th><td>Stephen Curry</td><td>PG</td><td>1</td><td>0</td><td>1</td></tr><tr><th>2</th><td>Anthony Davis</td><td>C</td><td>1</td><td>0</td><td>1</td></tr><tr><th>3</th><td>Andre Drummond</td><td>C</td><td>0</td><td>0</td><td>1</td></tr><tr><th>4</th><td>Kevin Durant</td><td>SF</td><td>1</td><td>1</td><td>1</td></tr><tr><th>5</th><td>Paul George</td><td>SF</td><td>1</td><td>1</td><td>1</td></tr><tr><th>6</th><td>James Harden</td><td>PG</td><td>1</td><td>0</td><td>1</td></tr><tr><th>7</th><td>Montrezl Harrell</td><td>C</td><td>0</td><td>0</td><td>1</td></tr><tr><th>8</th><td>LeBron James</td><td>SF</td><td>1</td><td>0</td><td>1</td></tr><tr><th>9</th><td>Kawhi Leonard</td><td>SF</td><td>1</td><td>0</td><td>1</td></tr><tr><th>10</th><td>Damian Lillard</td><td>PG</td><td>1</td><td>0</td><td>1</td></tr><tr><th>11</th><td>Karl-Anthony Towns</td><td>C</td><td>1</td><td>0</td><td>0</td></tr><tr><th>12</th><td>Hassan Whiteside</td><td>C</td><td>0</td><td>0</td><td>0</td></tr></tbody></table></div>"
      ],
      "text/latex": [
       "\\begin{tabular}{r|ccccc}\n",
       "\t& Player & Pos & AllStar & Olympics2016 & OlympicsFinalist\\\\\n",
       "\t\\hline\n",
       "\t& String31 & String7 & Int64 & Int64 & Int64\\\\\n",
       "\t\\hline\n",
       "\t1 & Stephen Curry & PG & 1 & 0 & 1 \\\\\n",
       "\t2 & Anthony Davis & C & 1 & 0 & 1 \\\\\n",
       "\t3 & Andre Drummond & C & 0 & 0 & 1 \\\\\n",
       "\t4 & Kevin Durant & SF & 1 & 1 & 1 \\\\\n",
       "\t5 & Paul George & SF & 1 & 1 & 1 \\\\\n",
       "\t6 & James Harden & PG & 1 & 0 & 1 \\\\\n",
       "\t7 & Montrezl Harrell & C & 0 & 0 & 1 \\\\\n",
       "\t8 & LeBron James & SF & 1 & 0 & 1 \\\\\n",
       "\t9 & Kawhi Leonard & SF & 1 & 0 & 1 \\\\\n",
       "\t10 & Damian Lillard & PG & 1 & 0 & 1 \\\\\n",
       "\t11 & Karl-Anthony Towns & C & 1 & 0 & 0 \\\\\n",
       "\t12 & Hassan Whiteside & C & 0 & 0 & 0 \\\\\n",
       "\\end{tabular}\n"
      ],
      "text/plain": [
       "\u001b[1m12×5 DataFrame\u001b[0m\n",
       "\u001b[1m Row \u001b[0m│\u001b[1m Player             \u001b[0m\u001b[1m Pos     \u001b[0m\u001b[1m AllStar \u001b[0m\u001b[1m Olympics2016 \u001b[0m\u001b[1m OlympicsFinalist \u001b[0m\n",
       "\u001b[1m     \u001b[0m│\u001b[90m String31           \u001b[0m\u001b[90m String7 \u001b[0m\u001b[90m Int64   \u001b[0m\u001b[90m Int64        \u001b[0m\u001b[90m Int64            \u001b[0m\n",
       "─────┼──────────────────────────────────────────────────────────────────────\n",
       "   1 │ Stephen Curry       PG             1             0                 1\n",
       "   2 │ Anthony Davis       C              1             0                 1\n",
       "   3 │ Andre Drummond      C              0             0                 1\n",
       "   4 │ Kevin Durant        SF             1             1                 1\n",
       "   5 │ Paul George         SF             1             1                 1\n",
       "   6 │ James Harden        PG             1             0                 1\n",
       "   7 │ Montrezl Harrell    C              0             0                 1\n",
       "   8 │ LeBron James        SF             1             0                 1\n",
       "   9 │ Kawhi Leonard       SF             1             0                 1\n",
       "  10 │ Damian Lillard      PG             1             0                 1\n",
       "  11 │ Karl-Anthony Towns  C              1             0                 0\n",
       "  12 │ Hassan Whiteside    C              0             0                 0"
      ]
     },
     "execution_count": 31,
     "metadata": {},
     "output_type": "execute_result"
    }
   ],
   "source": [
    "df[selection_indices.==1,[:Player,:Pos,:AllStar,:Olympics2016,:OlympicsFinalist]]"
   ]
  },
  {
   "cell_type": "markdown",
   "metadata": {},
   "source": [
    "### Making a More Realistic Team\n",
    "\n",
    "While this team is technically legal under Olympic regulations, it's not enough for us just to look at PER! We want to make sure that we have enough players of each position to fill out the team. We can add a few constraints to make a more useful team. "
   ]
  },
  {
   "cell_type": "code",
   "execution_count": 32,
   "metadata": {},
   "outputs": [
    {
     "name": "stdout",
     "output_type": "stream",
     "text": [
      "Academic license - for non-commercial use only - expires 2023-08-11\n"
     ]
    }
   ],
   "source": [
    "## Our original model\n",
    "model2 = Model(with_optimizer(Gurobi.Optimizer))\n",
    "@variable(model2, x[1:N], Bin)\n",
    "@objective(model2, Max, 1/12*sum(x[i]*df[i,:PER] for i=1:N));\n",
    "@constraint(model2, sum(x[i] for i=1:N) == 12);"
   ]
  },
  {
   "cell_type": "markdown",
   "metadata": {},
   "source": [
    "#### Position Requirements\n",
    "\n",
    "Suppose we want at least 4 guards, 4 forwards, and 3 centers. We first define indicators for each player's position. For example, to indicate which players are forwards, we define:\n",
    "\n",
    "\n",
    "$$\n",
    "    f_i=\\left\\{\n",
    "                \\begin{array}{ll}\n",
    "                  1 & \\text{if player $i$ is a forward,}\\\\\n",
    "                  0 & \\text{otherwise.}\n",
    "                \\end{array}\n",
    "              \\right.\n",
    "$$\n",
    "\n",
    "We can create similar variables $c_i$ and $g_i$ for center and guard positions. Note that this is **data**; these are not decision variables."
   ]
  },
  {
   "cell_type": "code",
   "execution_count": 33,
   "metadata": {},
   "outputs": [
    {
     "name": "stdout",
     "output_type": "stream",
     "text": [
      "Center Count: 33\n",
      "Forward Count: 67\n",
      "Guard Count: 96\n"
     ]
    }
   ],
   "source": [
    "c = ifelse.(df[!,:Pos].==\"C\",1,0);\n",
    "f = ifelse.((df[!,:Pos].==\"PF\").|(df[!,:Pos].==\"SF\"),1,0);\n",
    "g = ifelse.((df[!,:Pos].==\"PG\").|(df[!,:Pos].==\"SG\"),1,0);\n",
    "\n",
    "println(\"Center Count: \", sum(c))\n",
    "println(\"Forward Count: \", sum(f))\n",
    "println(\"Guard Count: \", sum(g))"
   ]
  },
  {
   "cell_type": "markdown",
   "metadata": {},
   "source": [
    "We can create constraints by summing the position indicator over the players who are selected for the team, like we did with the objective:\n",
    "\n",
    "$$ \\sum_{i=1}^{N}(f_i*x_i) \\geq 4$$\n",
    "\n",
    "We can do the same for the center and guard positions as well."
   ]
  },
  {
   "cell_type": "code",
   "execution_count": 34,
   "metadata": {
    "scrolled": true
   },
   "outputs": [],
   "source": [
    "# Forward constraint\n",
    "@constraint(model2, sum(f[i]*x[i] for i=1:N) >= 4);\n",
    "\n",
    "# Center constraint\n",
    "@constraint(model2, sum(c[i]*x[i] for i=1:N) >= 3);\n",
    "\n",
    "# Guard constraint\n",
    "@constraint(model2, sum(g[i]*x[i] for i=1:N) >= 4);"
   ]
  },
  {
   "cell_type": "markdown",
   "metadata": {},
   "source": [
    "#### Defensive Ability\n",
    "We want to make sure that our team has good average defensive ability. One (imperfect!) way to measure this is using Defensive Box Plus/Minus (DBPM). We can require that the average DBPM of the chosen team is at least +1. \n",
    "\n",
    "\n",
    "$$ \\frac{1}{12} \\sum_{i=1}^{N}(d_i*x_i) \\geq 1$$\n",
    "\n",
    "where $d_i$ is player $i$'s DBPM. "
   ]
  },
  {
   "cell_type": "code",
   "execution_count": 35,
   "metadata": {},
   "outputs": [],
   "source": [
    "d = df[!,:DBPM]\n",
    "@constraint(model2, 1/12 * sum(d[i]*x[i] for i=1:N) >= 1.0);"
   ]
  },
  {
   "cell_type": "markdown",
   "metadata": {},
   "source": [
    "#### Experience Constraints\n",
    "We also want to make sure our team has enough Olympics experience: let's add a constraint that at least 3 selected players were on the 2016 Olympic team.\n",
    "\n",
    "We use a similar syntax as before:\n",
    "\n",
    "$$ \\sum_{i=1}^{N}(o_i*x_i) \\geq 3 $$\n",
    "\n",
    "where $o_i = 1$ if player $i$ was on the 2016 Olympic team, and 0 otherwise. \n"
   ]
  },
  {
   "cell_type": "code",
   "execution_count": 36,
   "metadata": {
    "scrolled": true
   },
   "outputs": [],
   "source": [
    "o = df[!,:Olympics2016]\n",
    "@constraint(model2, sum(o[i]*x[i] for i=1:N) >= 3);"
   ]
  },
  {
   "cell_type": "markdown",
   "metadata": {},
   "source": [
    "Let's solve our new model."
   ]
  },
  {
   "cell_type": "code",
   "execution_count": 37,
   "metadata": {},
   "outputs": [],
   "source": [
    "set_silent(model2)\n",
    "optimize!(model2)"
   ]
  },
  {
   "cell_type": "code",
   "execution_count": 38,
   "metadata": {
    "scrolled": false
   },
   "outputs": [
    {
     "data": {
      "text/plain": [
       "12-element Vector{String31}:\n",
       " \"Andre Drummond\"\n",
       " \"Anthony Davis\"\n",
       " \"Damian Lillard\"\n",
       " \"Hassan Whiteside\"\n",
       " \"James Harden\"\n",
       " \"Jimmy Butler\"\n",
       " \"Karl-Anthony Towns\"\n",
       " \"Kawhi Leonard\"\n",
       " \"Kevin Durant\"\n",
       " \"LeBron James\"\n",
       " \"Paul George\"\n",
       " \"Stephen Curry\""
      ]
     },
     "execution_count": 38,
     "metadata": {},
     "output_type": "execute_result"
    }
   ],
   "source": [
    "selected_players2 = sort(df[value.(x).==1,:Player])"
   ]
  },
  {
   "cell_type": "markdown",
   "metadata": {},
   "source": [
    "If we compare to the original player list, we see that we have removed Montrezl Harrell (Center) and added Jimmy Butler (Forward)."
   ]
  },
  {
   "cell_type": "code",
   "execution_count": 39,
   "metadata": {
    "scrolled": true
   },
   "outputs": [
    {
     "data": {
      "text/plain": [
       "12-element Vector{String31}:\n",
       " \"Andre Drummond\"\n",
       " \"Anthony Davis\"\n",
       " \"Damian Lillard\"\n",
       " \"Hassan Whiteside\"\n",
       " \"James Harden\"\n",
       " \"Karl-Anthony Towns\"\n",
       " \"Kawhi Leonard\"\n",
       " \"Kevin Durant\"\n",
       " \"LeBron James\"\n",
       " \"Montrezl Harrell\"\n",
       " \"Paul George\"\n",
       " \"Stephen Curry\""
      ]
     },
     "execution_count": 39,
     "metadata": {},
     "output_type": "execute_result"
    }
   ],
   "source": [
    "sort(selected_players)"
   ]
  },
  {
   "cell_type": "markdown",
   "metadata": {},
   "source": [
    "How good is our new model, according to our **objective function**?"
   ]
  },
  {
   "cell_type": "code",
   "execution_count": 40,
   "metadata": {},
   "outputs": [
    {
     "data": {
      "text/plain": [
       "25.28333333333333"
      ]
     },
     "execution_count": 40,
     "metadata": {},
     "output_type": "execute_result"
    }
   ],
   "source": [
    "objective_value(model2)"
   ]
  },
  {
   "cell_type": "code",
   "execution_count": 41,
   "metadata": {},
   "outputs": [
    {
     "data": {
      "text/plain": [
       "25.374999999999996"
      ]
     },
     "execution_count": 41,
     "metadata": {},
     "output_type": "execute_result"
    }
   ],
   "source": [
    "objective_value(model)"
   ]
  },
  {
   "cell_type": "markdown",
   "metadata": {},
   "source": [
    "This is < 0.1 worse than our original solution: even with these new constraints, we haven't lost much."
   ]
  },
  {
   "cell_type": "markdown",
   "metadata": {},
   "source": [
    "### Variations of Our Basic Model\n"
   ]
  },
  {
   "cell_type": "markdown",
   "metadata": {},
   "source": [
    "Before we experiment further, we can put our full model into a **function** that will let us easily modify the model for different objectives and datasets."
   ]
  },
  {
   "cell_type": "code",
   "execution_count": 42,
   "metadata": {},
   "outputs": [
    {
     "data": {
      "text/plain": [
       "create_roster (generic function with 1 method)"
      ]
     },
     "execution_count": 42,
     "metadata": {},
     "output_type": "execute_result"
    }
   ],
   "source": [
    "function create_roster(df, objective_metric)\n",
    "    m = Model(with_optimizer(Gurobi.Optimizer))\n",
    "    set_silent(m)\n",
    "    \n",
    "    # Define variables\n",
    "    N = nrow(df)\n",
    "    @variable(m, x[1:N], Bin)\n",
    "    \n",
    "    # Define relevant data columns\n",
    "    c = ifelse.(df[!,:Pos].==\"C\",1,0);\n",
    "    f = ifelse.((df[!,:Pos].==\"PF\").|(df[!,:Pos].==\"SF\"),1,0);\n",
    "    g = ifelse.((df[!,:Pos].==\"PG\").|(df[!,:Pos].==\"SG\"),1,0);\n",
    "    d = df[!,:DBPM];\n",
    "    o = df[!,:Olympics2016];\n",
    "    \n",
    "    # Pull in data for our chosen objective\n",
    "    s = df[!,objective_metric];\n",
    "    \n",
    "    # Objective\n",
    "    @objective(m, Max, 1/12 * sum(x[i]*s[i] for i=1:N))\n",
    "    \n",
    "    # Team size constraint\n",
    "    @constraint(m, sum(x[i] for i=1:N) == 12);\n",
    "    \n",
    "    # Position constraints\n",
    "    @constraint(m, sum(f[i]*x[i] for i=1:N) >= 4);\n",
    "    @constraint(m, sum(c[i]*x[i] for i=1:N) >= 3);\n",
    "    @constraint(m, sum(g[i]*x[i] for i=1:N) >= 4);\n",
    "\n",
    "    # Experience constraint\n",
    "    @constraint(m, sum(o[i]*x[i] for i=1:N) >= 3);\n",
    "\n",
    "    # Defensive ability constraint\n",
    "    @constraint(m, 1/12 * sum(d[i]*x[i] for i=1:N) >= 1);\n",
    "    \n",
    "    optimize!(m)\n",
    "    \n",
    "    players = sort(df[value.(x).>0.99,:Player])\n",
    "    return(objective_value(m), players)\n",
    "end"
   ]
  },
  {
   "cell_type": "markdown",
   "metadata": {},
   "source": [
    "Now, it is easy for us to build models for different objective functions. We simply have to specify our dataset of interest and the column of the metric that we want to maximize."
   ]
  },
  {
   "cell_type": "markdown",
   "metadata": {},
   "source": [
    "#### Alternative Objective Functions\n",
    "\n",
    "We chose to optimize average PER, but we could have chosen other metrics too. How does our team composition change when we use other measures of player performance? Try using our function to experiment with different objectives. Remember: you can write `names(df)` to see all of the available columns."
   ]
  },
  {
   "cell_type": "code",
   "execution_count": 43,
   "metadata": {
    "scrolled": false
   },
   "outputs": [
    {
     "name": "stdout",
     "output_type": "stream",
     "text": [
      "Academic license - for non-commercial use only - expires 2023-08-11\n"
     ]
    },
    {
     "data": {
      "text/plain": [
       "(25.28333333333333, String31[\"Andre Drummond\", \"Anthony Davis\", \"Damian Lillard\", \"Hassan Whiteside\", \"James Harden\", \"Jimmy Butler\", \"Karl-Anthony Towns\", \"Kawhi Leonard\", \"Kevin Durant\", \"LeBron James\", \"Paul George\", \"Stephen Curry\"])"
      ]
     },
     "execution_count": 43,
     "metadata": {},
     "output_type": "execute_result"
    }
   ],
   "source": [
    "obj_per, players_per = create_roster(df,:PER)"
   ]
  },
  {
   "cell_type": "code",
   "execution_count": 49,
   "metadata": {},
   "outputs": [
    {
     "name": "stdout",
     "output_type": "stream",
     "text": [
      "Academic license - for non-commercial use only - expires 2023-08-11\n",
      "Academic license - for non-commercial use only - expires 2023-08-11\n"
     ]
    },
    {
     "data": {
      "text/plain": [
       "(0.2099166666666667, String31[\"Anthony Davis\", \"Damian Lillard\", \"Derrick Favors\", \"James Harden\", \"Jimmy Butler\", \"Kawhi Leonard\", \"Kevin Durant\", \"LeBron James\", \"Mitchell Robinson\", \"Nerlens Noel\", \"Paul George\", \"Stephen Curry\"])"
      ]
     },
     "execution_count": 49,
     "metadata": {},
     "output_type": "execute_result"
    }
   ],
   "source": [
    "obj_bpm, players_bpm = # FILL IN HERE using BPM\n",
    "obj_ws48, players_ws48 = # FILL IN HERE using WS"
   ]
  },
  {
   "cell_type": "markdown",
   "metadata": {},
   "source": [
    "#### How different is the playoff perspective?  \n",
    "\n",
    "Now let's repeat the model (with the original PER objective), but using data from the past two playoff seasons instead. We're looking at average playoff statistics for all active US-born NBA players."
   ]
  },
  {
   "cell_type": "code",
   "execution_count": 46,
   "metadata": {
    "scrolled": true
   },
   "outputs": [
    {
     "data": {
      "text/html": [
       "<div class=\"data-frame\"><p>10 rows × 36 columns (omitted printing of 27 columns)</p><table class=\"data-frame\"><thead><tr><th></th><th>ID</th><th>Player</th><th>Username</th><th>From</th><th>To</th><th>Tm</th><th>Lg</th><th>WS</th><th>G</th></tr><tr><th></th><th title=\"Int64\">Int64</th><th title=\"String31\">String31</th><th title=\"String15\">String15</th><th title=\"Int64\">Int64</th><th title=\"Int64\">Int64</th><th title=\"String3\">String3</th><th title=\"String3\">String3</th><th title=\"Float64\">Float64</th><th title=\"Int64\">Int64</th></tr></thead><tbody><tr><th>1</th><td>1</td><td>LeBron James</td><td>jamesle01</td><td>2017</td><td>2018</td><td>CLE</td><td>NBA</td><td>9.4</td><td>40</td></tr><tr><th>2</th><td>2</td><td>Kevin Durant</td><td>duranke01</td><td>2017</td><td>2019</td><td>GSW</td><td>NBA</td><td>9.0</td><td>48</td></tr><tr><th>3</th><td>3</td><td>Stephen Curry</td><td>curryst01</td><td>2017</td><td>2019</td><td>GSW</td><td>NBA</td><td>8.8</td><td>54</td></tr><tr><th>4</th><td>4</td><td>Kawhi Leonard</td><td>leonaka01</td><td>2017</td><td>2019</td><td>TOT</td><td>NBA</td><td>7.7</td><td>36</td></tr><tr><th>5</th><td>5</td><td>Draymond Green</td><td>greendr01</td><td>2017</td><td>2019</td><td>GSW</td><td>NBA</td><td>7.2</td><td>60</td></tr><tr><th>6</th><td>6</td><td>James Harden</td><td>hardeja01</td><td>2017</td><td>2019</td><td>HOU</td><td>NBA</td><td>5.1</td><td>39</td></tr><tr><th>7</th><td>7</td><td>Kyle Lowry</td><td>lowryky01</td><td>2017</td><td>2019</td><td>TOR</td><td>NBA</td><td>4.7</td><td>42</td></tr><tr><th>8</th><td>8</td><td>Chris Paul</td><td>paulch01</td><td>2017</td><td>2019</td><td>TOT</td><td>NBA</td><td>4.5</td><td>33</td></tr><tr><th>9</th><td>9</td><td>Andre Iguodala</td><td>iguodan01</td><td>2017</td><td>2019</td><td>GSW</td><td>NBA</td><td>3.8</td><td>52</td></tr><tr><th>10</th><td>10</td><td>Klay Thompson</td><td>thompkl01</td><td>2017</td><td>2019</td><td>GSW</td><td>NBA</td><td>3.6</td><td>59</td></tr></tbody></table></div>"
      ],
      "text/latex": [
       "\\begin{tabular}{r|cccccccccc}\n",
       "\t& ID & Player & Username & From & To & Tm & Lg & WS & G & \\\\\n",
       "\t\\hline\n",
       "\t& Int64 & String31 & String15 & Int64 & Int64 & String3 & String3 & Float64 & Int64 & \\\\\n",
       "\t\\hline\n",
       "\t1 & 1 & LeBron James & jamesle01 & 2017 & 2018 & CLE & NBA & 9.4 & 40 & $\\dots$ \\\\\n",
       "\t2 & 2 & Kevin Durant & duranke01 & 2017 & 2019 & GSW & NBA & 9.0 & 48 & $\\dots$ \\\\\n",
       "\t3 & 3 & Stephen Curry & curryst01 & 2017 & 2019 & GSW & NBA & 8.8 & 54 & $\\dots$ \\\\\n",
       "\t4 & 4 & Kawhi Leonard & leonaka01 & 2017 & 2019 & TOT & NBA & 7.7 & 36 & $\\dots$ \\\\\n",
       "\t5 & 5 & Draymond Green & greendr01 & 2017 & 2019 & GSW & NBA & 7.2 & 60 & $\\dots$ \\\\\n",
       "\t6 & 6 & James Harden & hardeja01 & 2017 & 2019 & HOU & NBA & 5.1 & 39 & $\\dots$ \\\\\n",
       "\t7 & 7 & Kyle Lowry & lowryky01 & 2017 & 2019 & TOR & NBA & 4.7 & 42 & $\\dots$ \\\\\n",
       "\t8 & 8 & Chris Paul & paulch01 & 2017 & 2019 & TOT & NBA & 4.5 & 33 & $\\dots$ \\\\\n",
       "\t9 & 9 & Andre Iguodala & iguodan01 & 2017 & 2019 & GSW & NBA & 3.8 & 52 & $\\dots$ \\\\\n",
       "\t10 & 10 & Klay Thompson & thompkl01 & 2017 & 2019 & GSW & NBA & 3.6 & 59 & $\\dots$ \\\\\n",
       "\\end{tabular}\n"
      ],
      "text/plain": [
       "\u001b[1m10×36 DataFrame\u001b[0m\n",
       "\u001b[1m Row \u001b[0m│\u001b[1m ID    \u001b[0m\u001b[1m Player         \u001b[0m\u001b[1m Username  \u001b[0m\u001b[1m From  \u001b[0m\u001b[1m To    \u001b[0m\u001b[1m Tm      \u001b[0m\u001b[1m Lg      \u001b[0m\u001b[1m WS   \u001b[0m ⋯\n",
       "\u001b[1m     \u001b[0m│\u001b[90m Int64 \u001b[0m\u001b[90m String31       \u001b[0m\u001b[90m String15  \u001b[0m\u001b[90m Int64 \u001b[0m\u001b[90m Int64 \u001b[0m\u001b[90m String3 \u001b[0m\u001b[90m String3 \u001b[0m\u001b[90m Float\u001b[0m ⋯\n",
       "─────┼──────────────────────────────────────────────────────────────────────────\n",
       "   1 │     1  LeBron James    jamesle01   2017   2018  CLE      NBA          9 ⋯\n",
       "   2 │     2  Kevin Durant    duranke01   2017   2019  GSW      NBA          9\n",
       "   3 │     3  Stephen Curry   curryst01   2017   2019  GSW      NBA          8\n",
       "   4 │     4  Kawhi Leonard   leonaka01   2017   2019  TOT      NBA          7\n",
       "   5 │     5  Draymond Green  greendr01   2017   2019  GSW      NBA          7 ⋯\n",
       "   6 │     6  James Harden    hardeja01   2017   2019  HOU      NBA          5\n",
       "   7 │     7  Kyle Lowry      lowryky01   2017   2019  TOR      NBA          4\n",
       "   8 │     8  Chris Paul      paulch01    2017   2019  TOT      NBA          4\n",
       "   9 │     9  Andre Iguodala  iguodan01   2017   2019  GSW      NBA          3 ⋯\n",
       "  10 │    10  Klay Thompson   thompkl01   2017   2019  GSW      NBA          3\n",
       "\u001b[36m                                                              29 columns omitted\u001b[0m"
      ]
     },
     "execution_count": 46,
     "metadata": {},
     "output_type": "execute_result"
    }
   ],
   "source": [
    "df_playoffs = CSV.read(\"data/NBA_data_playoffs_2017_2019.csv\", DataFrame);\n",
    "first(df_playoffs,10)"
   ]
  },
  {
   "cell_type": "markdown",
   "metadata": {},
   "source": [
    "We can leverage the same function, but now we want to speficy a new dataset, **df_playoffs**, rather than the original dataset **df**."
   ]
  },
  {
   "cell_type": "code",
   "execution_count": 47,
   "metadata": {},
   "outputs": [
    {
     "name": "stdout",
     "output_type": "stream",
     "text": [
      "Academic license - for non-commercial use only - expires 2023-08-11\n"
     ]
    },
    {
     "data": {
      "text/plain": [
       "(30.866666666666667, String31[\"Anthony Davis\", \"Chris Paul\", \"Draymond Green\", \"JaVale McGee\", \"James Harden\", \"Jimmy Butler\", \"Kawhi Leonard\", \"Kevin Durant\", \"Larry Nance\", \"LeBron James\", \"Malcolm Delaney\", \"Stephen Curry\"])"
      ]
     },
     "execution_count": 47,
     "metadata": {},
     "output_type": "execute_result"
    }
   ],
   "source": [
    "obj_playoff, players_playoff = create_roster(df_playoffs,:PER)"
   ]
  },
  {
   "cell_type": "markdown",
   "metadata": {},
   "source": [
    "We can create a table to compare how much these different lists overlap. We'll do this using the `join` function, which is similar to SQL syntax."
   ]
  },
  {
   "cell_type": "code",
   "execution_count": 50,
   "metadata": {
    "scrolled": true
   },
   "outputs": [
    {
     "data": {
      "text/html": [
       "<div class=\"data-frame\"><p>21 rows × 5 columns</p><table class=\"data-frame\"><thead><tr><th></th><th>Player</th><th>PER</th><th>BPM</th><th>WS_48</th><th>PER_PLAYOFF</th></tr><tr><th></th><th title=\"String31\">String31</th><th title=\"Union{Missing, Int64}\">Int64?</th><th title=\"Union{Missing, Int64}\">Int64?</th><th title=\"Union{Missing, Int64}\">Int64?</th><th title=\"Union{Missing, Int64}\">Int64?</th></tr></thead><tbody><tr><th>1</th><td>Andre Drummond</td><td>1</td><td><em>missing</em></td><td><em>missing</em></td><td><em>missing</em></td></tr><tr><th>2</th><td>Anthony Davis</td><td>1</td><td>1</td><td>1</td><td>1</td></tr><tr><th>3</th><td>Chris Paul</td><td><em>missing</em></td><td><em>missing</em></td><td><em>missing</em></td><td>1</td></tr><tr><th>4</th><td>Damian Lillard</td><td>1</td><td>1</td><td>1</td><td><em>missing</em></td></tr><tr><th>5</th><td>Derrick Favors</td><td><em>missing</em></td><td><em>missing</em></td><td>1</td><td><em>missing</em></td></tr><tr><th>6</th><td>Draymond Green</td><td><em>missing</em></td><td><em>missing</em></td><td><em>missing</em></td><td>1</td></tr><tr><th>7</th><td>Hassan Whiteside</td><td>1</td><td><em>missing</em></td><td><em>missing</em></td><td><em>missing</em></td></tr><tr><th>8</th><td>JaVale McGee</td><td><em>missing</em></td><td><em>missing</em></td><td><em>missing</em></td><td>1</td></tr><tr><th>9</th><td>James Harden</td><td>1</td><td>1</td><td>1</td><td>1</td></tr><tr><th>10</th><td>Jimmy Butler</td><td>1</td><td>1</td><td>1</td><td>1</td></tr><tr><th>11</th><td>Karl-Anthony Towns</td><td>1</td><td>1</td><td><em>missing</em></td><td><em>missing</em></td></tr><tr><th>12</th><td>Kawhi Leonard</td><td>1</td><td>1</td><td>1</td><td>1</td></tr><tr><th>13</th><td>Kevin Durant</td><td>1</td><td>1</td><td>1</td><td>1</td></tr><tr><th>14</th><td>Larry Nance</td><td><em>missing</em></td><td><em>missing</em></td><td><em>missing</em></td><td>1</td></tr><tr><th>15</th><td>LeBron James</td><td>1</td><td>1</td><td>1</td><td>1</td></tr><tr><th>16</th><td>Malcolm Delaney</td><td><em>missing</em></td><td><em>missing</em></td><td><em>missing</em></td><td>1</td></tr><tr><th>17</th><td>Mitchell Robinson</td><td><em>missing</em></td><td>1</td><td>1</td><td><em>missing</em></td></tr><tr><th>18</th><td>Nerlens Noel</td><td><em>missing</em></td><td><em>missing</em></td><td>1</td><td><em>missing</em></td></tr><tr><th>19</th><td>Paul George</td><td>1</td><td>1</td><td>1</td><td><em>missing</em></td></tr><tr><th>20</th><td>Russell Westbrook</td><td><em>missing</em></td><td>1</td><td><em>missing</em></td><td><em>missing</em></td></tr><tr><th>21</th><td>Stephen Curry</td><td>1</td><td>1</td><td>1</td><td>1</td></tr></tbody></table></div>"
      ],
      "text/latex": [
       "\\begin{tabular}{r|ccccc}\n",
       "\t& Player & PER & BPM & WS\\_48 & PER\\_PLAYOFF\\\\\n",
       "\t\\hline\n",
       "\t& String31 & Int64? & Int64? & Int64? & Int64?\\\\\n",
       "\t\\hline\n",
       "\t1 & Andre Drummond & 1 & \\emph{missing} & \\emph{missing} & \\emph{missing} \\\\\n",
       "\t2 & Anthony Davis & 1 & 1 & 1 & 1 \\\\\n",
       "\t3 & Chris Paul & \\emph{missing} & \\emph{missing} & \\emph{missing} & 1 \\\\\n",
       "\t4 & Damian Lillard & 1 & 1 & 1 & \\emph{missing} \\\\\n",
       "\t5 & Derrick Favors & \\emph{missing} & \\emph{missing} & 1 & \\emph{missing} \\\\\n",
       "\t6 & Draymond Green & \\emph{missing} & \\emph{missing} & \\emph{missing} & 1 \\\\\n",
       "\t7 & Hassan Whiteside & 1 & \\emph{missing} & \\emph{missing} & \\emph{missing} \\\\\n",
       "\t8 & JaVale McGee & \\emph{missing} & \\emph{missing} & \\emph{missing} & 1 \\\\\n",
       "\t9 & James Harden & 1 & 1 & 1 & 1 \\\\\n",
       "\t10 & Jimmy Butler & 1 & 1 & 1 & 1 \\\\\n",
       "\t11 & Karl-Anthony Towns & 1 & 1 & \\emph{missing} & \\emph{missing} \\\\\n",
       "\t12 & Kawhi Leonard & 1 & 1 & 1 & 1 \\\\\n",
       "\t13 & Kevin Durant & 1 & 1 & 1 & 1 \\\\\n",
       "\t14 & Larry Nance & \\emph{missing} & \\emph{missing} & \\emph{missing} & 1 \\\\\n",
       "\t15 & LeBron James & 1 & 1 & 1 & 1 \\\\\n",
       "\t16 & Malcolm Delaney & \\emph{missing} & \\emph{missing} & \\emph{missing} & 1 \\\\\n",
       "\t17 & Mitchell Robinson & \\emph{missing} & 1 & 1 & \\emph{missing} \\\\\n",
       "\t18 & Nerlens Noel & \\emph{missing} & \\emph{missing} & 1 & \\emph{missing} \\\\\n",
       "\t19 & Paul George & 1 & 1 & 1 & \\emph{missing} \\\\\n",
       "\t20 & Russell Westbrook & \\emph{missing} & 1 & \\emph{missing} & \\emph{missing} \\\\\n",
       "\t21 & Stephen Curry & 1 & 1 & 1 & 1 \\\\\n",
       "\\end{tabular}\n"
      ],
      "text/plain": [
       "\u001b[1m21×5 DataFrame\u001b[0m\n",
       "\u001b[1m Row \u001b[0m│\u001b[1m Player             \u001b[0m\u001b[1m PER     \u001b[0m\u001b[1m BPM     \u001b[0m\u001b[1m WS_48   \u001b[0m\u001b[1m PER_PLAYOFF \u001b[0m\n",
       "\u001b[1m     \u001b[0m│\u001b[90m String31           \u001b[0m\u001b[90m Int64?  \u001b[0m\u001b[90m Int64?  \u001b[0m\u001b[90m Int64?  \u001b[0m\u001b[90m Int64?      \u001b[0m\n",
       "─────┼────────────────────────────────────────────────────────────\n",
       "   1 │ Andre Drummond            1 \u001b[90m missing \u001b[0m\u001b[90m missing \u001b[0m\u001b[90m     missing \u001b[0m\n",
       "   2 │ Anthony Davis             1        1        1            1\n",
       "   3 │ Chris Paul         \u001b[90m missing \u001b[0m\u001b[90m missing \u001b[0m\u001b[90m missing \u001b[0m           1\n",
       "   4 │ Damian Lillard            1        1        1 \u001b[90m     missing \u001b[0m\n",
       "   5 │ Derrick Favors     \u001b[90m missing \u001b[0m\u001b[90m missing \u001b[0m       1 \u001b[90m     missing \u001b[0m\n",
       "   6 │ Draymond Green     \u001b[90m missing \u001b[0m\u001b[90m missing \u001b[0m\u001b[90m missing \u001b[0m           1\n",
       "   7 │ Hassan Whiteside          1 \u001b[90m missing \u001b[0m\u001b[90m missing \u001b[0m\u001b[90m     missing \u001b[0m\n",
       "   8 │ JaVale McGee       \u001b[90m missing \u001b[0m\u001b[90m missing \u001b[0m\u001b[90m missing \u001b[0m           1\n",
       "   9 │ James Harden              1        1        1            1\n",
       "  10 │ Jimmy Butler              1        1        1            1\n",
       "  11 │ Karl-Anthony Towns        1        1 \u001b[90m missing \u001b[0m\u001b[90m     missing \u001b[0m\n",
       "  12 │ Kawhi Leonard             1        1        1            1\n",
       "  13 │ Kevin Durant              1        1        1            1\n",
       "  14 │ Larry Nance        \u001b[90m missing \u001b[0m\u001b[90m missing \u001b[0m\u001b[90m missing \u001b[0m           1\n",
       "  15 │ LeBron James              1        1        1            1\n",
       "  16 │ Malcolm Delaney    \u001b[90m missing \u001b[0m\u001b[90m missing \u001b[0m\u001b[90m missing \u001b[0m           1\n",
       "  17 │ Mitchell Robinson  \u001b[90m missing \u001b[0m       1        1 \u001b[90m     missing \u001b[0m\n",
       "  18 │ Nerlens Noel       \u001b[90m missing \u001b[0m\u001b[90m missing \u001b[0m       1 \u001b[90m     missing \u001b[0m\n",
       "  19 │ Paul George               1        1        1 \u001b[90m     missing \u001b[0m\n",
       "  20 │ Russell Westbrook  \u001b[90m missing \u001b[0m       1 \u001b[90m missing \u001b[0m\u001b[90m     missing \u001b[0m\n",
       "  21 │ Stephen Curry             1        1        1            1"
      ]
     },
     "execution_count": 50,
     "metadata": {},
     "output_type": "execute_result"
    }
   ],
   "source": [
    "player_compare = outerjoin(\n",
    "    DataFrame(Player = players_per, PER = 1), \n",
    "    DataFrame(Player = players_bpm, BPM = 1),\n",
    "    DataFrame(Player = players_ws48, WS_48 = 1), \n",
    "    DataFrame(Player = players_playoff, PER_PLAYOFF = 1),\n",
    "    on = :Player)\n",
    "\n",
    "sort(player_compare)"
   ]
  },
  {
   "cell_type": "markdown",
   "metadata": {},
   "source": [
    "Finally, we can also add a column comparing our lists to the true list of Olympic Finalists for 2020.   "
   ]
  },
  {
   "cell_type": "code",
   "execution_count": 51,
   "metadata": {},
   "outputs": [
    {
     "data": {
      "text/html": [
       "<div class=\"data-frame\"><p>21 rows × 6 columns</p><table class=\"data-frame\"><thead><tr><th></th><th>Player</th><th>PER</th><th>BPM</th><th>WS_48</th><th>PER_PLAYOFF</th><th>OlympicsFinalist</th></tr><tr><th></th><th title=\"String31\">String31</th><th title=\"Union{Missing, Int64}\">Int64?</th><th title=\"Union{Missing, Int64}\">Int64?</th><th title=\"Union{Missing, Int64}\">Int64?</th><th title=\"Union{Missing, Int64}\">Int64?</th><th title=\"Union{Missing, Int64}\">Int64?</th></tr></thead><tbody><tr><th>1</th><td>Andre Drummond</td><td>1</td><td><em>missing</em></td><td><em>missing</em></td><td><em>missing</em></td><td>1</td></tr><tr><th>2</th><td>Anthony Davis</td><td>1</td><td>1</td><td>1</td><td>1</td><td>1</td></tr><tr><th>3</th><td>Chris Paul</td><td><em>missing</em></td><td><em>missing</em></td><td><em>missing</em></td><td>1</td><td>1</td></tr><tr><th>4</th><td>Damian Lillard</td><td>1</td><td>1</td><td>1</td><td><em>missing</em></td><td>1</td></tr><tr><th>5</th><td>Derrick Favors</td><td><em>missing</em></td><td><em>missing</em></td><td>1</td><td><em>missing</em></td><td><em>missing</em></td></tr><tr><th>6</th><td>Draymond Green</td><td><em>missing</em></td><td><em>missing</em></td><td><em>missing</em></td><td>1</td><td>1</td></tr><tr><th>7</th><td>Hassan Whiteside</td><td>1</td><td><em>missing</em></td><td><em>missing</em></td><td><em>missing</em></td><td><em>missing</em></td></tr><tr><th>8</th><td>JaVale McGee</td><td><em>missing</em></td><td><em>missing</em></td><td><em>missing</em></td><td>1</td><td>1</td></tr><tr><th>9</th><td>James Harden</td><td>1</td><td>1</td><td>1</td><td>1</td><td>1</td></tr><tr><th>10</th><td>Jimmy Butler</td><td>1</td><td>1</td><td>1</td><td>1</td><td>1</td></tr><tr><th>11</th><td>Karl-Anthony Towns</td><td>1</td><td>1</td><td><em>missing</em></td><td><em>missing</em></td><td><em>missing</em></td></tr><tr><th>12</th><td>Kawhi Leonard</td><td>1</td><td>1</td><td>1</td><td>1</td><td>1</td></tr><tr><th>13</th><td>Kevin Durant</td><td>1</td><td>1</td><td>1</td><td>1</td><td>1</td></tr><tr><th>14</th><td>Larry Nance</td><td><em>missing</em></td><td><em>missing</em></td><td><em>missing</em></td><td>1</td><td><em>missing</em></td></tr><tr><th>15</th><td>LeBron James</td><td>1</td><td>1</td><td>1</td><td>1</td><td>1</td></tr><tr><th>16</th><td>Malcolm Delaney</td><td><em>missing</em></td><td><em>missing</em></td><td><em>missing</em></td><td>1</td><td><em>missing</em></td></tr><tr><th>17</th><td>Mitchell Robinson</td><td><em>missing</em></td><td>1</td><td>1</td><td><em>missing</em></td><td><em>missing</em></td></tr><tr><th>18</th><td>Nerlens Noel</td><td><em>missing</em></td><td><em>missing</em></td><td>1</td><td><em>missing</em></td><td><em>missing</em></td></tr><tr><th>19</th><td>Paul George</td><td>1</td><td>1</td><td>1</td><td><em>missing</em></td><td>1</td></tr><tr><th>20</th><td>Russell Westbrook</td><td><em>missing</em></td><td>1</td><td><em>missing</em></td><td><em>missing</em></td><td>1</td></tr><tr><th>21</th><td>Stephen Curry</td><td>1</td><td>1</td><td>1</td><td>1</td><td>1</td></tr></tbody></table></div>"
      ],
      "text/latex": [
       "\\begin{tabular}{r|cccccc}\n",
       "\t& Player & PER & BPM & WS\\_48 & PER\\_PLAYOFF & OlympicsFinalist\\\\\n",
       "\t\\hline\n",
       "\t& String31 & Int64? & Int64? & Int64? & Int64? & Int64?\\\\\n",
       "\t\\hline\n",
       "\t1 & Andre Drummond & 1 & \\emph{missing} & \\emph{missing} & \\emph{missing} & 1 \\\\\n",
       "\t2 & Anthony Davis & 1 & 1 & 1 & 1 & 1 \\\\\n",
       "\t3 & Chris Paul & \\emph{missing} & \\emph{missing} & \\emph{missing} & 1 & 1 \\\\\n",
       "\t4 & Damian Lillard & 1 & 1 & 1 & \\emph{missing} & 1 \\\\\n",
       "\t5 & Derrick Favors & \\emph{missing} & \\emph{missing} & 1 & \\emph{missing} & \\emph{missing} \\\\\n",
       "\t6 & Draymond Green & \\emph{missing} & \\emph{missing} & \\emph{missing} & 1 & 1 \\\\\n",
       "\t7 & Hassan Whiteside & 1 & \\emph{missing} & \\emph{missing} & \\emph{missing} & \\emph{missing} \\\\\n",
       "\t8 & JaVale McGee & \\emph{missing} & \\emph{missing} & \\emph{missing} & 1 & 1 \\\\\n",
       "\t9 & James Harden & 1 & 1 & 1 & 1 & 1 \\\\\n",
       "\t10 & Jimmy Butler & 1 & 1 & 1 & 1 & 1 \\\\\n",
       "\t11 & Karl-Anthony Towns & 1 & 1 & \\emph{missing} & \\emph{missing} & \\emph{missing} \\\\\n",
       "\t12 & Kawhi Leonard & 1 & 1 & 1 & 1 & 1 \\\\\n",
       "\t13 & Kevin Durant & 1 & 1 & 1 & 1 & 1 \\\\\n",
       "\t14 & Larry Nance & \\emph{missing} & \\emph{missing} & \\emph{missing} & 1 & \\emph{missing} \\\\\n",
       "\t15 & LeBron James & 1 & 1 & 1 & 1 & 1 \\\\\n",
       "\t16 & Malcolm Delaney & \\emph{missing} & \\emph{missing} & \\emph{missing} & 1 & \\emph{missing} \\\\\n",
       "\t17 & Mitchell Robinson & \\emph{missing} & 1 & 1 & \\emph{missing} & \\emph{missing} \\\\\n",
       "\t18 & Nerlens Noel & \\emph{missing} & \\emph{missing} & 1 & \\emph{missing} & \\emph{missing} \\\\\n",
       "\t19 & Paul George & 1 & 1 & 1 & \\emph{missing} & 1 \\\\\n",
       "\t20 & Russell Westbrook & \\emph{missing} & 1 & \\emph{missing} & \\emph{missing} & 1 \\\\\n",
       "\t21 & Stephen Curry & 1 & 1 & 1 & 1 & 1 \\\\\n",
       "\\end{tabular}\n"
      ],
      "text/plain": [
       "\u001b[1m21×6 DataFrame\u001b[0m\n",
       "\u001b[1m Row \u001b[0m│\u001b[1m Player             \u001b[0m\u001b[1m PER     \u001b[0m\u001b[1m BPM     \u001b[0m\u001b[1m WS_48   \u001b[0m\u001b[1m PER_PLAYOFF \u001b[0m\u001b[1m OlympicsFin\u001b[0m ⋯\n",
       "\u001b[1m     \u001b[0m│\u001b[90m String31           \u001b[0m\u001b[90m Int64?  \u001b[0m\u001b[90m Int64?  \u001b[0m\u001b[90m Int64?  \u001b[0m\u001b[90m Int64?      \u001b[0m\u001b[90m Int64?     \u001b[0m ⋯\n",
       "─────┼──────────────────────────────────────────────────────────────────────────\n",
       "   1 │ Andre Drummond            1 \u001b[90m missing \u001b[0m\u001b[90m missing \u001b[0m\u001b[90m     missing \u001b[0m             ⋯\n",
       "   2 │ Anthony Davis             1        1        1            1\n",
       "   3 │ Chris Paul         \u001b[90m missing \u001b[0m\u001b[90m missing \u001b[0m\u001b[90m missing \u001b[0m           1\n",
       "   4 │ Damian Lillard            1        1        1 \u001b[90m     missing \u001b[0m\n",
       "   5 │ Derrick Favors     \u001b[90m missing \u001b[0m\u001b[90m missing \u001b[0m       1 \u001b[90m     missing \u001b[0m\u001b[90m          mi\u001b[0m ⋯\n",
       "   6 │ Draymond Green     \u001b[90m missing \u001b[0m\u001b[90m missing \u001b[0m\u001b[90m missing \u001b[0m           1\n",
       "   7 │ Hassan Whiteside          1 \u001b[90m missing \u001b[0m\u001b[90m missing \u001b[0m\u001b[90m     missing \u001b[0m\u001b[90m          mi\u001b[0m\n",
       "   8 │ JaVale McGee       \u001b[90m missing \u001b[0m\u001b[90m missing \u001b[0m\u001b[90m missing \u001b[0m           1\n",
       "   9 │ James Harden              1        1        1            1              ⋯\n",
       "  10 │ Jimmy Butler              1        1        1            1\n",
       "  11 │ Karl-Anthony Towns        1        1 \u001b[90m missing \u001b[0m\u001b[90m     missing \u001b[0m\u001b[90m          mi\u001b[0m\n",
       "  12 │ Kawhi Leonard             1        1        1            1\n",
       "  13 │ Kevin Durant              1        1        1            1              ⋯\n",
       "  14 │ Larry Nance        \u001b[90m missing \u001b[0m\u001b[90m missing \u001b[0m\u001b[90m missing \u001b[0m           1 \u001b[90m          mi\u001b[0m\n",
       "  15 │ LeBron James              1        1        1            1\n",
       "  16 │ Malcolm Delaney    \u001b[90m missing \u001b[0m\u001b[90m missing \u001b[0m\u001b[90m missing \u001b[0m           1 \u001b[90m          mi\u001b[0m\n",
       "  17 │ Mitchell Robinson  \u001b[90m missing \u001b[0m       1        1 \u001b[90m     missing \u001b[0m\u001b[90m          mi\u001b[0m ⋯\n",
       "  18 │ Nerlens Noel       \u001b[90m missing \u001b[0m\u001b[90m missing \u001b[0m       1 \u001b[90m     missing \u001b[0m\u001b[90m          mi\u001b[0m\n",
       "  19 │ Paul George               1        1        1 \u001b[90m     missing \u001b[0m\n",
       "  20 │ Russell Westbrook  \u001b[90m missing \u001b[0m       1 \u001b[90m missing \u001b[0m\u001b[90m     missing \u001b[0m\n",
       "  21 │ Stephen Curry             1        1        1            1              ⋯\n",
       "\u001b[36m                                                                1 column omitted\u001b[0m"
      ]
     },
     "execution_count": 51,
     "metadata": {},
     "output_type": "execute_result"
    }
   ],
   "source": [
    "# Pull a dataset of the olympic finalists\n",
    "olympics_finalists = unique(df[df[!,:OlympicsFinalist].==1,[:Player,:OlympicsFinalist]])\n",
    "\n",
    "sort(leftjoin(player_compare, olympics_finalists, on = :Player))"
   ]
  },
  {
   "cell_type": "markdown",
   "metadata": {},
   "source": [
    "7 players (Anthony Davis, James Harden, Jimmy Butler, Kawhi Leonard, Kevin Durant, Lebron James, and Stephen Curry) are chosen in every variation of our model. Certain players only appear when we look at playoff statistics (e.g. Chris Paul, Draymond Green), while others look better when we focus on the regular season (e.g. Paul George, Damian Lillard)."
   ]
  },
  {
   "cell_type": "code",
   "execution_count": null,
   "metadata": {},
   "outputs": [],
   "source": []
  }
 ],
 "metadata": {
  "@webio": {
   "lastCommId": null,
   "lastKernelId": null
  },
  "kernelspec": {
   "display_name": "Julia 1.7.3",
   "language": "julia",
   "name": "julia-1.7"
  },
  "language_info": {
   "file_extension": ".jl",
   "mimetype": "application/julia",
   "name": "julia",
   "version": "1.7.3"
  }
 },
 "nbformat": 4,
 "nbformat_minor": 2
}
